{
 "cells": [
  {
   "cell_type": "markdown",
   "metadata": {},
   "source": [
    "# Fully-Connected Network (TensorFlow)"
   ]
  },
  {
   "cell_type": "code",
   "execution_count": 1,
   "metadata": {},
   "outputs": [],
   "source": [
    "import os\n",
    "\n",
    "import numpy as np\n",
    "\n",
    "import tensorflow as tf\n",
    "from tensorflow import keras"
   ]
  },
  {
   "cell_type": "markdown",
   "metadata": {},
   "source": [
    "## Data Loading"
   ]
  },
  {
   "cell_type": "code",
   "execution_count": 2,
   "metadata": {},
   "outputs": [],
   "source": [
    "DATA_DIR = os.path.join(\"..\", \"data\", \"mnist\")\n",
    "DATA_FILE = \"mnist.npz\""
   ]
  },
  {
   "cell_type": "code",
   "execution_count": 3,
   "metadata": {},
   "outputs": [],
   "source": [
    "data = np.load(os.path.join(DATA_DIR, DATA_FILE))\n",
    "\n",
    "# gather indices to split training data into training and validation sets\n",
    "data_train = (data['x_train'], data['y_train'])\n",
    "shuffled_idxs = np.random.permutation(data['x_train'].shape[0])\n",
    "idxs_train = shuffled_idxs[len(shuffled_idxs)//10:]  # last 90%\n",
    "idxs_val = shuffled_idxs[:len(shuffled_idxs)//10]  # first 10%\n",
    "\n",
    "x_train, y_train = data['x_train'][idxs_train], data['y_train'][idxs_train]\n",
    "x_val, y_val = data['x_train'][idxs_val], data['y_train'][idxs_val]\n",
    "x_test, y_test = data['x_test'], data['y_test']\n",
    "\n",
    "# squeeze pixel values into from ints [0, 255] to reals [0, 1]\n",
    "x_train, x_val, x_test = x_train/255, x_val/255, x_test/255"
   ]
  },
  {
   "cell_type": "markdown",
   "metadata": {},
   "source": [
    "## Model"
   ]
  },
  {
   "cell_type": "code",
   "execution_count": 4,
   "metadata": {},
   "outputs": [],
   "source": [
    "model = keras.models.Sequential()\n",
    "model.add(keras.layers.Flatten())\n",
    "model.add(keras.layers.Dense(512, activation=tf.nn.relu))\n",
    "model.add(keras.layers.Dropout(0.2))\n",
    "model.add(keras.layers.Dense(10, activation=tf.nn.softmax))\n",
    "\n",
    "model.compile(optimizer='adam',\n",
    "              loss='sparse_categorical_crossentropy',\n",
    "              metrics=['accuracy'])"
   ]
  },
  {
   "cell_type": "markdown",
   "metadata": {},
   "source": [
    "## Training"
   ]
  },
  {
   "cell_type": "code",
   "execution_count": 5,
   "metadata": {},
   "outputs": [
    {
     "name": "stdout",
     "output_type": "stream",
     "text": [
      "Train on 54000 samples, validate on 6000 samples\n",
      "Epoch 1/5\n",
      "54000/54000 [==============================] - 30s 558us/step - loss: 0.2151 - acc: 0.9369 - val_loss: 0.1154 - val_acc: 0.9638\n",
      "Epoch 2/5\n",
      "54000/54000 [==============================] - 24s 440us/step - loss: 0.0849 - acc: 0.9735 - val_loss: 0.0841 - val_acc: 0.9782\n",
      "Epoch 3/5\n",
      "54000/54000 [==============================] - 22s 404us/step - loss: 0.0549 - acc: 0.9826 - val_loss: 0.0745 - val_acc: 0.9795\n",
      "Epoch 4/5\n",
      "54000/54000 [==============================] - 18s 329us/step - loss: 0.0384 - acc: 0.9877 - val_loss: 0.0777 - val_acc: 0.9782\n",
      "Epoch 5/5\n",
      "54000/54000 [==============================] - 21s 392us/step - loss: 0.0282 - acc: 0.9910 - val_loss: 0.0825 - val_acc: 0.9782\n"
     ]
    }
   ],
   "source": [
    "history = model.fit(x_train, y_train, epochs=5, validation_data=(x_val, y_val))"
   ]
  },
  {
   "cell_type": "markdown",
   "metadata": {},
   "source": [
    "## Testing"
   ]
  },
  {
   "cell_type": "code",
   "execution_count": 6,
   "metadata": {},
   "outputs": [
    {
     "name": "stdout",
     "output_type": "stream",
     "text": [
      "54000/54000 [==============================] - 4s 70us/step\n",
      "Training accuracy: 0.9930555555555556\n",
      "10000/10000 [==============================] - 2s 164us/step\n",
      "Testing accuracy: 0.9777\n"
     ]
    }
   ],
   "source": [
    "print(f\"Training accuracy: {model.evaluate(x_train, y_train)[1]}\")\n",
    "print(f\"Testing accuracy: {model.evaluate(x_test, y_test)[1]}\")"
   ]
  },
  {
   "cell_type": "markdown",
   "metadata": {},
   "source": [
    "## Save Model"
   ]
  },
  {
   "cell_type": "code",
   "execution_count": 7,
   "metadata": {},
   "outputs": [],
   "source": [
    "keras.models.save_model(model, os.path.join(\"..\", \"output\", \"tensorflow-basic.hdf5\"))"
   ]
  }
 ],
 "metadata": {
  "kernelspec": {
   "display_name": "Python 3",
   "language": "python",
   "name": "python3"
  },
  "language_info": {
   "codemirror_mode": {
    "name": "ipython",
    "version": 3
   },
   "file_extension": ".py",
   "mimetype": "text/x-python",
   "name": "python",
   "nbconvert_exporter": "python",
   "pygments_lexer": "ipython3",
   "version": "3.6.7"
  }
 },
 "nbformat": 4,
 "nbformat_minor": 2
}
