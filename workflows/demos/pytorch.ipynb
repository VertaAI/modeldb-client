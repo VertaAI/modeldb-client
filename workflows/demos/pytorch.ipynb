{
 "cells": [
  {
   "cell_type": "markdown",
   "metadata": {},
   "source": [
    "# Fully-Connected Network (PyTorch)"
   ]
  },
  {
   "cell_type": "code",
   "execution_count": null,
   "metadata": {},
   "outputs": [],
   "source": [
    "import os\n",
    "import itertools\n",
    "\n",
    "import numpy as np\n",
    "\n",
    "from sklearn.model_selection import train_test_split\n",
    "\n",
    "import torch\n",
    "import torch.nn as nn\n",
    "import torch.nn.functional as func\n",
    "import torch.optim as optim\n",
    "import torch.utils.data as data_utils\n",
    "\n",
    "import matplotlib.pyplot as plt\n",
    "import matplotlib.image as mpimg\n",
    "\n",
    "from verta import ModelDBClient\n",
    "\n",
    "\n",
    "data_dir = os.path.join(\"..\", \"data\", \"mnist\")\n",
    "output_dir = os.path.join(\"..\", \"output\", \"pytorch\")\n",
    "os.makedirs(data_dir, exist_ok=True)\n",
    "os.makedirs(output_dir, exist_ok=True)"
   ]
  },
  {
   "cell_type": "code",
   "execution_count": null,
   "metadata": {},
   "outputs": [],
   "source": [
    "HOST = \n",
    "PORT = "
   ]
  },
  {
   "cell_type": "markdown",
   "metadata": {},
   "source": [
    "---"
   ]
  },
  {
   "cell_type": "markdown",
   "metadata": {},
   "source": [
    "## Constants"
   ]
  },
  {
   "cell_type": "code",
   "execution_count": null,
   "metadata": {},
   "outputs": [],
   "source": [
    "TRAIN_DATA_PATH = os.path.join(data_dir, \"train.npz\")\n",
    "TEST_DATA_PATH = os.path.join(data_dir, \"test.npz\")\n",
    "\n",
    "LOSS_PLOT_PATH = os.path.join(output_dir, \"{}.png\")\n",
    "MODEL_PATH = os.path.join(output_dir, \"{}.pt\")"
   ]
  },
  {
   "cell_type": "code",
   "execution_count": null,
   "metadata": {},
   "outputs": [],
   "source": [
    "GRID = {'hidden_size': [512, 1024],\n",
    "        'dropout': [.2, .3, .5],\n",
    "        'batch_size': [256, 512],\n",
    "        'num_epochs': [4],\n",
    "        'learning_rate': [0.001]}\n",
    "grid = [dict(zip(GRID.keys(), values))\n",
    "        for values\n",
    "        in itertools.product(*GRID.values())]"
   ]
  },
  {
   "cell_type": "markdown",
   "metadata": {},
   "source": [
    "## Client"
   ]
  },
  {
   "cell_type": "code",
   "execution_count": null,
   "metadata": {},
   "outputs": [],
   "source": [
    "client = ModelDBClient(HOST, PORT)\n",
    "proj = client.set_project(\"MNIST Multiclassification\")\n",
    "expt = client.set_experiment(\"Pytorch FC-NN\",\n",
    "                             \"one layer with dropout\",\n",
    "                             tags=[\"test\", \"neural-net\"])"
   ]
  },
  {
   "cell_type": "markdown",
   "metadata": {},
   "source": [
    "## Data"
   ]
  },
  {
   "cell_type": "code",
   "execution_count": null,
   "metadata": {},
   "outputs": [],
   "source": [
    "data = np.load(TRAIN_DATA_PATH)\n",
    "\n",
    "x_train, x_val, y_train, y_val = train_test_split(data['x'], data['y'], test_size=.2)\n",
    "\n",
    "x_train, x_val = torch.tensor(x_train, dtype=torch.float), torch.tensor(x_val, dtype=torch.float)\n",
    "y_train, y_val = torch.tensor(y_train, dtype=torch.long), torch.tensor(y_val, dtype=torch.long)\n",
    "\n",
    "# squeeze pixel values into from ints [0, 255] to reals [0, 1]\n",
    "x_train, x_val = x_train/255, x_val/255"
   ]
  },
  {
   "cell_type": "code",
   "execution_count": null,
   "metadata": {},
   "outputs": [],
   "source": [
    "# create Dataset object to support batch training\n",
    "class TrainingDataset(data_utils.Dataset):\n",
    "    def __init__(self, features, labels):\n",
    "        self.features = features\n",
    "        self.labels = labels\n",
    "        \n",
    "    def __len__(self):\n",
    "        return len(self.labels)\n",
    "    \n",
    "    def __getitem__(self, idx):\n",
    "        return (self.features[idx], self.labels[idx])"
   ]
  },
  {
   "cell_type": "markdown",
   "metadata": {},
   "source": [
    "## Model"
   ]
  },
  {
   "cell_type": "code",
   "execution_count": null,
   "metadata": {},
   "outputs": [],
   "source": [
    "class Net(nn.Module):\n",
    "    def __init__(self, hidden_size=512, dropout=0.2):\n",
    "        super().__init__()\n",
    "        self.fc      = nn.Linear(28*28, hidden_size)\n",
    "        self.dropout = nn.Dropout(dropout)\n",
    "        self.output  = nn.Linear(hidden_size, 10)\n",
    "        \n",
    "    def forward(self, x):\n",
    "        x = x.view(x.shape[0], -1)  # flatten non-batch dimensions\n",
    "        x = func.relu(self.fc(x))\n",
    "        x = self.dropout(x)\n",
    "        x = func.softmax(self.output(x), dim=-1)\n",
    "        return x\n",
    "    \n",
    "    def predict(self, x):\n",
    "        with torch.no_grad():\n",
    "            return self.forward(x).numpy().argmax(axis=1)\n",
    "        \n",
    "    def score(self, x, y):\n",
    "        with torch.no_grad():\n",
    "            return np.mean(self.predict(x) == y.numpy())"
   ]
  },
  {
   "cell_type": "markdown",
   "metadata": {},
   "source": [
    "## Training"
   ]
  },
  {
   "cell_type": "code",
   "execution_count": null,
   "metadata": {
    "scrolled": true
   },
   "outputs": [],
   "source": [
    "for hyperparams in grid:\n",
    "    run = client.set_experiment_run(tags=[\"test\"])\n",
    "    \n",
    "    for key, value in hyperparams.items():\n",
    "        run.log_hyperparameter(key, value)\n",
    "    \n",
    "    model = Net(hyperparams['hidden_size'], hyperparams['dropout'])\n",
    "    \n",
    "    criterion = torch.nn.CrossEntropyLoss()\n",
    "    optimizer = torch.optim.Adam(model.parameters(), lr=hyperparams['learning_rate'])\n",
    "    \n",
    "    dataset = TrainingDataset(x_train, y_train)\n",
    "    dataloader = data_utils.DataLoader(dataset, batch_size=hyperparams['batch_size'], shuffle=True)\n",
    "    run.log_dataset(\"training_data\", TRAIN_DATA_PATH)\n",
    "    run.log_dataset(\"testing_data\", TEST_DATA_PATH)\n",
    "    \n",
    "    losses = []\n",
    "    for i_epoch in range(hyperparams['num_epochs']):\n",
    "        print(\"{} | epoch {}/{}\".format(hyperparams, i_epoch+1, hyperparams['num_epochs']), end='\\r')\n",
    "        batch_losses = []\n",
    "        for i_batch, (x_batch, y_batch) in enumerate(dataloader):\n",
    "            model.zero_grad()\n",
    "\n",
    "            output = model(x_batch)\n",
    "\n",
    "            loss = criterion(output, y_batch)\n",
    "            run.log_observation(\"batch_loss\", loss.item())\n",
    "            batch_losses.append(loss.item())\n",
    "\n",
    "            loss.backward()\n",
    "            optimizer.step()\n",
    "        run.log_observation(\"epoch_loss\", sum(batch_losses)/len(dataloader))\n",
    "        losses.extend(batch_losses)\n",
    "    print()\n",
    "    val_acc = model.score(x_val, y_val)\n",
    "    run.log_metric(\"val_acc\", val_acc)\n",
    "    run.log_metric(\"final_loss\", losses[-1])\n",
    "    \n",
    "#     plt.plot(losses)\n",
    "#     plt.savefig(LOSS_PLOT_PATH.format(run.name), bbox_inches='tight')\n",
    "#     plt.close()\n",
    "    run.log_image(\"loss_plot\", LOSS_PLOT_PATH.format(run.name))\n",
    "    \n",
    "#     torch.save(model.state_dict(), MODEL_PATH.format(run.name))\n",
    "    run.log_model(\"validation_model\", MODEL_PATH.format(run.name))"
   ]
  }
 ],
 "metadata": {
  "kernelspec": {
   "display_name": "Python 3",
   "language": "python",
   "name": "python3"
  },
  "language_info": {
   "codemirror_mode": {
    "name": "ipython",
    "version": 3
   },
   "file_extension": ".py",
   "mimetype": "text/x-python",
   "name": "python",
   "nbconvert_exporter": "python",
   "pygments_lexer": "ipython3",
   "version": "3.6.8"
  }
 },
 "nbformat": 4,
 "nbformat_minor": 2
}
