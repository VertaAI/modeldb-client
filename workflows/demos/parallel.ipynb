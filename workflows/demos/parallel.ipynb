{
 "cells": [
  {
   "cell_type": "markdown",
   "metadata": {},
   "source": [
    "# Hardcore Debugging"
   ]
  },
  {
   "cell_type": "code",
   "execution_count": 1,
   "metadata": {},
   "outputs": [],
   "source": [
    "import os\n",
    "import itertools\n",
    "\n",
    "from multiprocessing import Pool\n",
    "\n",
    "import joblib\n",
    "\n",
    "import numpy as np\n",
    "\n",
    "from sklearn import model_selection\n",
    "from sklearn import linear_model\n",
    "from sklearn import metrics\n",
    "\n",
    "import grpc\n",
    "\n",
    "from verta import ModelDBClient"
   ]
  },
  {
   "cell_type": "markdown",
   "metadata": {},
   "source": [
    "## Instantiate Client"
   ]
  },
  {
   "cell_type": "code",
   "execution_count": 2,
   "metadata": {
    "scrolled": true
   },
   "outputs": [],
   "source": [
    "client = ModelDBClient(\"me@me.me\", \"skeleton\")\n",
    "proj = client.set_project(\"Income Classification\")\n",
    "expt = client.set_experiment(\"Logistic Regression\")"
   ]
  },
  {
   "cell_type": "code",
   "execution_count": 3,
   "metadata": {},
   "outputs": [],
   "source": [
    "TRAIN_DATA_PATH = os.path.join(\"..\", \"data\", \"census\", \"train.npz\")\n",
    "TEST_DATA_PATH = os.path.join(\"..\", \"data\", \"census\", \"test.npz\")\n",
    "MODEL_PATH = os.path.join(\"..\", \"output\", \"client-demo\", \"logreg_gridsearch_{}.gz\")"
   ]
  },
  {
   "cell_type": "markdown",
   "metadata": {},
   "source": [
    "## Design Validation Run"
   ]
  },
  {
   "cell_type": "code",
   "execution_count": 4,
   "metadata": {},
   "outputs": [],
   "source": [
    "hyperparam_candidates = {\n",
    "    'C': [1e-4, 1e-3, 1e-2, 1e-1, 1],\n",
    "    'solver': ['lbfgs'],\n",
    "    'max_iter': [1e4, 1e5],\n",
    "}\n",
    "hyperparam_sets = [dict(zip(hyperparam_candidates.keys(), values))\n",
    "                   for values\n",
    "                   in itertools.product(*hyperparam_candidates.values())]\n",
    "\n",
    "def run_experiment(hyperparams):\n",
    "    # create object to track experiment run\n",
    "    run = client.set_experiment_run()\n",
    "        \n",
    "    # create and log data\n",
    "    train_data = np.load(TRAIN_DATA_PATH)\n",
    "    X_train, y_train = train_data['X'], train_data['y']\n",
    "    run.log_dataset(\"train data\", TRAIN_DATA_PATH)\n",
    "    run.log_dataset(\"test data\", TEST_DATA_PATH)\n",
    "    \n",
    "    # create validation split\n",
    "    X_train, X_val, y_train, y_val = model_selection.train_test_split(X_train, y_train,\n",
    "                                                                      test_size=0.1, shuffle=False)\n",
    "    # log hyperparameters\n",
    "    for key, val in hyperparams.items():\n",
    "        run.log_hyperparameter(key, val)\n",
    "    print(hyperparams, end=' ')\n",
    "    \n",
    "    # create and train model\n",
    "    model = linear_model.LogisticRegression(**hyperparams)\n",
    "    model.fit(X_train, y_train)\n",
    "    \n",
    "    # calculate and log validation accuracy\n",
    "    val_acc = model.score(X_val, y_val)\n",
    "    run.log_metric(\"val acc\", val_acc)\n",
    "    print(f\"Validation accuracy: {val_acc:.4f}\")\n",
    "    \n",
    "    # save and log model\n",
    "    joblib.dump(model, MODEL_PATH.format(run.id))\n",
    "    run.log_model(\"model\", MODEL_PATH.format(run.id))"
   ]
  },
  {
   "cell_type": "markdown",
   "metadata": {},
   "source": [
    "## Run Validation"
   ]
  },
  {
   "cell_type": "code",
   "execution_count": 5,
   "metadata": {
    "scrolled": false
   },
   "outputs": [
    {
     "name": "stdout",
     "output_type": "stream",
     "text": [
      "{'C': 0.0001, 'solver': 'lbfgs', 'max_iter': 100000.0} Validation accuracy: 0.7988\n",
      "{'C': 0.0001, 'solver': 'lbfgs', 'max_iter': 10000.0} Validation accuracy: 0.7988\n",
      "{'C': 0.001, 'solver': 'lbfgs', 'max_iter': 10000.0} Validation accuracy: 0.8093\n",
      "{'C': 0.001, 'solver': 'lbfgs', 'max_iter': 100000.0} Validation accuracy: 0.8093\n",
      "{'C': 0.01, 'solver': 'lbfgs', 'max_iter': 100000.0} Validation accuracy: 0.8535\n",
      "{'C': 0.01, 'solver': 'lbfgs', 'max_iter': 10000.0} Validation accuracy: 0.8535\n",
      "{'C': 0.1, 'solver': 'lbfgs', 'max_iter': 10000.0} Validation accuracy: 0.8563\n",
      "{'C': 0.1, 'solver': 'lbfgs', 'max_iter': 100000.0} Validation accuracy: 0.8563\n",
      "{'C': 1, 'solver': 'lbfgs', 'max_iter': 10000.0} Validation accuracy: 0.8579\n",
      "{'C': 1, 'solver': 'lbfgs', 'max_iter': 100000.0} Validation accuracy: 0.8579\n"
     ]
    }
   ],
   "source": [
    "with Pool() as p:\n",
    "    p.map(run_experiment, hyperparam_sets)"
   ]
  }
 ],
 "metadata": {
  "kernelspec": {
   "display_name": "Python 3",
   "language": "python",
   "name": "python3"
  },
  "language_info": {
   "codemirror_mode": {
    "name": "ipython",
    "version": 3
   },
   "file_extension": ".py",
   "mimetype": "text/x-python",
   "name": "python",
   "nbconvert_exporter": "python",
   "pygments_lexer": "ipython3",
   "version": "3.6.7"
  }
 },
 "nbformat": 4,
 "nbformat_minor": 2
}
