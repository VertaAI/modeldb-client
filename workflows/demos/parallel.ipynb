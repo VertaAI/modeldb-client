{
 "cells": [
  {
   "cell_type": "markdown",
   "metadata": {},
   "source": [
    "<a href=\"https://colab.research.google.com/github/VertaAI/modeldb-client/blob/development/workflows/demos/parallel.ipynb\" target=\"_parent\"><img src=\"https://colab.research.google.com/assets/colab-badge.svg\" alt=\"Open In Colab\"/></a>"
   ]
  },
  {
   "cell_type": "markdown",
   "metadata": {},
   "source": [
    "# Multiprocess Grid Search"
   ]
  },
  {
   "cell_type": "code",
   "execution_count": null,
   "metadata": {
    "collapsed": true
   },
   "outputs": [],
   "source": [
    "#Run this cell if you are running this python notebook on Google Colab and restart your notebook when prompted\n",
    "!pip install verta"
   ]
  },
  {
   "cell_type": "code",
   "execution_count": null,
   "metadata": {
    "collapsed": true
   },
   "outputs": [],
   "source": [
    "import os\n",
    "import itertools\n",
    "import time\n",
    "\n",
    "from multiprocessing import Pool\n",
    "\n",
    "import joblib\n",
    "\n",
    "import numpy as np\n",
    "\n",
    "from sklearn import model_selection\n",
    "from sklearn import linear_model\n",
    "from sklearn import metrics\n",
    "\n",
    "import grpc\n",
    "\n",
    "from verta import ModelDBClient\n",
    "\n",
    "\n",
    "data_dir = os.path.join(\"..\", \"data\", \"census\")\n",
    "output_dir = os.path.join(\"..\", \"output\", \"grid-search\")\n",
    "os.makedirs(data_dir, exist_ok=True)\n",
    "os.makedirs(output_dir, exist_ok=True)"
   ]
  },
  {
   "cell_type": "code",
   "execution_count": null,
   "metadata": {
    "collapsed": true
   },
   "outputs": [],
   "source": [
    "HOST = \n",
    "PORT = "
   ]
  },
  {
   "cell_type": "markdown",
   "metadata": {},
   "source": [
    "---"
   ]
  },
  {
   "cell_type": "markdown",
   "metadata": {},
   "source": [
    "## Instantiate Client"
   ]
  },
  {
   "cell_type": "code",
   "execution_count": null,
   "metadata": {
    "collapsed": true,
    "scrolled": true
   },
   "outputs": [],
   "source": [
    "client = ModelDBClient(HOST, PORT)\n",
    "proj = client.set_project(\"Income Classification\")\n",
    "expt = client.set_experiment(\"Logistic Regression in Parallel\")"
   ]
  },
  {
   "cell_type": "code",
   "execution_count": null,
   "metadata": {
    "collapsed": true
   },
   "outputs": [],
   "source": [
    "TRAIN_DATA_PATH = os.path.join(data_dir, \"train.npz\")\n",
    "TEST_DATA_PATH = os.path.join(data_dir, \"test.npz\")\n",
    "MODEL_PATH = os.path.join(output_dir, \"logreg_gridsearch_{}.gz\")"
   ]
  },
  {
   "cell_type": "markdown",
   "metadata": {},
   "source": [
    "## Design Validation Run"
   ]
  },
  {
   "cell_type": "code",
   "execution_count": null,
   "metadata": {
    "collapsed": true
   },
   "outputs": [],
   "source": [
    "hyperparam_candidates = {\n",
    "    'C': [1e-4, 1e-3, 1e-2],\n",
    "    'solver': ['lbfgs'],\n",
    "    'max_iter': [1e4],\n",
    "}\n",
    "hyperparam_sets = [dict(zip(hyperparam_candidates.keys(), values))\n",
    "                   for values\n",
    "                   in itertools.product(*hyperparam_candidates.values())]\n",
    "\n",
    "def run_experiment(hyperparams):\n",
    "    start_time = int(time.time())\n",
    "    \n",
    "    # create object to track experiment run\n",
    "    run = client.set_experiment_run()\n",
    "        \n",
    "    # create and log data\n",
    "    train_data = np.load(TRAIN_DATA_PATH)\n",
    "    X_train, y_train = train_data['X'], train_data['y']\n",
    "    run.log_dataset(\"train_data\", TRAIN_DATA_PATH)\n",
    "    run.log_dataset(\"test_data\", TEST_DATA_PATH)\n",
    "    \n",
    "    # create validation split\n",
    "    X_train, X_val, y_train, y_val = model_selection.train_test_split(X_train, y_train,\n",
    "                                                                      test_size=0.1, shuffle=False)\n",
    "    # log hyperparameters\n",
    "    for key, val in hyperparams.items():\n",
    "        run.log_hyperparameter(key, val)\n",
    "    print(hyperparams, end=' ')\n",
    "    \n",
    "    # create and train model\n",
    "    model = linear_model.LogisticRegression(**hyperparams)\n",
    "    model.fit(X_train, y_train)\n",
    "    \n",
    "    # calculate and log validation accuracy\n",
    "    val_acc = model.score(X_val, y_val)\n",
    "    run.log_metric(\"val_acc\", val_acc)\n",
    "    print(\"Validation accuracy: {:.4f}\".format(val_acc))\n",
    "    \n",
    "    # save and log model\n",
    "    joblib.dump(model, MODEL_PATH.format(start_time))\n",
    "    run.log_model(\"model\", MODEL_PATH.format(start_time))"
   ]
  },
  {
   "cell_type": "markdown",
   "metadata": {},
   "source": [
    "## Run Validation"
   ]
  },
  {
   "cell_type": "code",
   "execution_count": null,
   "metadata": {
    "collapsed": true,
    "scrolled": false
   },
   "outputs": [],
   "source": [
    "with Pool() as p:\n",
    "    p.map(run_experiment, hyperparam_sets)"
   ]
  }
 ],
 "metadata": {
  "kernelspec": {
   "display_name": "Python 36",
   "language": "python",
   "name": "py36"
  },
  "language_info": {
   "codemirror_mode": {
    "name": "ipython",
    "version": 3
   },
   "file_extension": ".py",
   "mimetype": "text/x-python",
   "name": "python",
   "nbconvert_exporter": "python",
   "pygments_lexer": "ipython3",
   "version": "3.6.1"
  }
 },
 "nbformat": 4,
 "nbformat_minor": 2
}
