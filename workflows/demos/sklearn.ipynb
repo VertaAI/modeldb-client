{
 "cells": [
  {
   "cell_type": "markdown",
   "metadata": {},
   "source": [
    "# Logistic Regression with Grid Search (scikit-learn)"
   ]
  },
  {
   "cell_type": "markdown",
   "metadata": {},
   "source": [
    "---"
   ]
  },
  {
   "cell_type": "markdown",
   "metadata": {},
   "source": [
    "# Log Workflow"
   ]
  },
  {
   "cell_type": "code",
   "execution_count": 1,
   "metadata": {},
   "outputs": [],
   "source": [
    "import os, sys\n",
    "import itertools\n",
    "\n",
    "import joblib\n",
    "\n",
    "import numpy as np\n",
    "\n",
    "from sklearn import model_selection\n",
    "from sklearn import linear_model\n",
    "from sklearn import metrics\n",
    "\n",
    "sys.path.append(os.path.join(\"..\", \"modeldb\"))\n",
    "from modeldbclient import ModelDBClient"
   ]
  },
  {
   "cell_type": "markdown",
   "metadata": {},
   "source": [
    "## Instantiate Client"
   ]
  },
  {
   "cell_type": "code",
   "execution_count": 2,
   "metadata": {
    "scrolled": true
   },
   "outputs": [],
   "source": [
    "client = ModelDBClient()\n",
    "proj = client.set_project(\"Income Classification\")\n",
    "expt = client.set_experiment(\"Logistic Regression\")"
   ]
  },
  {
   "cell_type": "code",
   "execution_count": 3,
   "metadata": {},
   "outputs": [],
   "source": [
    "TRAIN_DATA_PATH = os.path.join(\"..\", \"data\", \"census\", \"train.npz\")\n",
    "TEST_DATA_PATH = os.path.join(\"..\", \"data\", \"census\", \"test.npz\")\n",
    "MODEL_PATH = os.path.join(\"..\", \"output\", \"client-demo\", \"logreg_gridsearch_{}.gz\")"
   ]
  },
  {
   "cell_type": "markdown",
   "metadata": {},
   "source": [
    "## Prepare Data"
   ]
  },
  {
   "cell_type": "code",
   "execution_count": 4,
   "metadata": {},
   "outputs": [],
   "source": [
    "train_data = np.load(TRAIN_DATA_PATH)\n",
    "\n",
    "X_train, y_train = train_data['X'], train_data['y']"
   ]
  },
  {
   "cell_type": "markdown",
   "metadata": {},
   "source": [
    "## Prepare Hyperparameters"
   ]
  },
  {
   "cell_type": "code",
   "execution_count": 5,
   "metadata": {},
   "outputs": [],
   "source": [
    "hyperparam_candidates = {\n",
    "    'C': [1e-4, 1e-3, 1e-2, 1e-1],\n",
    "    'solver': ['lbfgs'],\n",
    "    'max_iter': [1e4],\n",
    "}\n",
    "hyperparam_sets = [dict(zip(hyperparam_candidates.keys(), values))\n",
    "                   for values\n",
    "                   in itertools.product(*hyperparam_candidates.values())]"
   ]
  },
  {
   "cell_type": "markdown",
   "metadata": {},
   "source": [
    "## Run Validation"
   ]
  },
  {
   "cell_type": "code",
   "execution_count": 6,
   "metadata": {},
   "outputs": [
    {
     "name": "stdout",
     "output_type": "stream",
     "text": [
      "{'C': 0.0001, 'solver': 'lbfgs', 'max_iter': 10000.0} Validation accuracy: 0.7988\n",
      "{'C': 0.001, 'solver': 'lbfgs', 'max_iter': 10000.0} Validation accuracy: 0.8120\n",
      "{'C': 0.01, 'solver': 'lbfgs', 'max_iter': 10000.0} Validation accuracy: 0.8393\n",
      "{'C': 0.1, 'solver': 'lbfgs', 'max_iter': 10000.0} Validation accuracy: 0.8434\n"
     ]
    }
   ],
   "source": [
    "for hyperparams in hyperparam_sets:\n",
    "    # create object to track experiment run\n",
    "    run = client.set_experiment_run()\n",
    "        \n",
    "    # log data\n",
    "    run.log_dataset(\"train data\", TRAIN_DATA_PATH)\n",
    "    run.log_dataset(\"test data\", TEST_DATA_PATH)\n",
    "    \n",
    "    # create validation split\n",
    "    X_train, X_val, y_train, y_val = model_selection.train_test_split(X_train, y_train,\n",
    "                                                                      test_size=0.1, shuffle=False)\n",
    "    # log hyperparameters\n",
    "    for key, val in hyperparams.items():\n",
    "        run.log_hyperparameter(key, val)\n",
    "    print(hyperparams, end=' ')\n",
    "    \n",
    "    # create and train model\n",
    "    model = linear_model.LogisticRegression(**hyperparams)\n",
    "    model.fit(X_train, y_train)\n",
    "    \n",
    "    # calculate and log validation accuracy\n",
    "    val_acc = model.score(X_val, y_val)\n",
    "    run.log_metric(\"val acc\", val_acc)\n",
    "    print(f\"Validation accuracy: {val_acc:.4f}\")\n",
    "    \n",
    "    # save and log model\n",
    "    joblib.dump(model, MODEL_PATH.format(run.id))\n",
    "    run.log_model(\"model\", MODEL_PATH.format(run.id))"
   ]
  },
  {
   "cell_type": "markdown",
   "metadata": {},
   "source": [
    "## Close Client"
   ]
  },
  {
   "cell_type": "code",
   "execution_count": 7,
   "metadata": {},
   "outputs": [],
   "source": [
    "client.disconnect()\n",
    "\n",
    "%reset -f"
   ]
  },
  {
   "cell_type": "markdown",
   "metadata": {},
   "source": [
    "---"
   ]
  },
  {
   "cell_type": "markdown",
   "metadata": {},
   "source": [
    "# Load Workflow"
   ]
  },
  {
   "cell_type": "code",
   "execution_count": 8,
   "metadata": {},
   "outputs": [],
   "source": [
    "import os, sys\n",
    "import itertools\n",
    "\n",
    "import joblib\n",
    "\n",
    "import numpy as np\n",
    "\n",
    "from sklearn import model_selection\n",
    "from sklearn import linear_model\n",
    "from sklearn import metrics\n",
    "\n",
    "sys.path.append(os.path.join(\"..\", \"modeldb\"))\n",
    "from modeldbclient import ModelDBClient"
   ]
  },
  {
   "cell_type": "markdown",
   "metadata": {},
   "source": [
    "## Instantiate Client"
   ]
  },
  {
   "cell_type": "code",
   "execution_count": 9,
   "metadata": {},
   "outputs": [],
   "source": [
    "client = ModelDBClient()\n",
    "proj = client.set_project(\"Income Classification\")\n",
    "expt = client.set_experiment(\"Logistic Regression\")"
   ]
  },
  {
   "cell_type": "markdown",
   "metadata": {},
   "source": [
    "## Load Experiment Runs"
   ]
  },
  {
   "cell_type": "code",
   "execution_count": 10,
   "metadata": {},
   "outputs": [],
   "source": [
    "# retrieve all ExperimentRuns under the Experiment we set\n",
    "client.set_experiment_runs()"
   ]
  },
  {
   "cell_type": "markdown",
   "metadata": {},
   "source": [
    "## Select Best Experiment Run"
   ]
  },
  {
   "cell_type": "code",
   "execution_count": 11,
   "metadata": {
    "scrolled": true
   },
   "outputs": [],
   "source": [
    "# fetch best experiment run based on validation accuracy\n",
    "best_run = sorted(client.expt_runs, key=lambda run: run.get_metrics()['val acc'])[-1]"
   ]
  },
  {
   "cell_type": "markdown",
   "metadata": {},
   "source": [
    "## Restore Training Data"
   ]
  },
  {
   "cell_type": "code",
   "execution_count": 12,
   "metadata": {},
   "outputs": [],
   "source": [
    "TRAIN_DATA_PATH = best_run.get_datasets()['train data']\n",
    "\n",
    "train_data = np.load(TRAIN_DATA_PATH)\n",
    "X_train, y_train = train_data['X'], train_data['y']"
   ]
  },
  {
   "cell_type": "markdown",
   "metadata": {},
   "source": [
    "## Restore Hyperparameters"
   ]
  },
  {
   "cell_type": "code",
   "execution_count": 13,
   "metadata": {},
   "outputs": [
    {
     "name": "stdout",
     "output_type": "stream",
     "text": [
      "{'C': 0.1, 'solver': 'lbfgs', 'max_iter': 10000.0} Validation accuracy: 0.8434\n"
     ]
    }
   ],
   "source": [
    "best_hyperparams = best_run.get_hyperparameters()\n",
    "best_val_acc = best_run.get_metrics()['val acc']\n",
    "\n",
    "print(f\"{best_hyperparams} Validation accuracy: {best_val_acc:.4f}\")"
   ]
  },
  {
   "cell_type": "markdown",
   "metadata": {},
   "source": [
    "## Restore Earlier Model to Verify"
   ]
  },
  {
   "cell_type": "code",
   "execution_count": 14,
   "metadata": {},
   "outputs": [
    {
     "name": "stdout",
     "output_type": "stream",
     "text": [
      "Accuracy on full training set: 0.8469\n"
     ]
    }
   ],
   "source": [
    "MODEL_PATH = best_run.get_models()['model']\n",
    "\n",
    "model = joblib.load(MODEL_PATH)\n",
    "\n",
    "acc = model.score(X_train, y_train)\n",
    "print(f\"Accuracy on full training set: {acc:.4f}\")"
   ]
  },
  {
   "cell_type": "markdown",
   "metadata": {},
   "source": [
    "## Retrain Model on Full Training Set"
   ]
  },
  {
   "cell_type": "code",
   "execution_count": 15,
   "metadata": {
    "scrolled": true
   },
   "outputs": [
    {
     "name": "stdout",
     "output_type": "stream",
     "text": [
      "Training accuracy: 0.8464\n"
     ]
    }
   ],
   "source": [
    "model = linear_model.LogisticRegression(**best_hyperparams)\n",
    "model.fit(X_train, y_train)\n",
    "\n",
    "train_acc = model.score(X_train, y_train)\n",
    "best_run.log_metric(\"train acc\", train_acc)\n",
    "print(f\"Training accuracy: {train_acc:.4f}\")"
   ]
  },
  {
   "cell_type": "markdown",
   "metadata": {},
   "source": [
    "## Run and Log Testing"
   ]
  },
  {
   "cell_type": "code",
   "execution_count": 16,
   "metadata": {},
   "outputs": [
    {
     "name": "stdout",
     "output_type": "stream",
     "text": [
      "Testing accuracy: 0.8463\n"
     ]
    }
   ],
   "source": [
    "TEST_DATA_PATH = best_run.get_datasets()['test data']\n",
    "\n",
    "test_data = np.load(TEST_DATA_PATH)\n",
    "X_test, y_test = test_data['X'], test_data['y']\n",
    "\n",
    "test_acc = model.score(X_test, y_test)\n",
    "best_run.log_metric(\"test acc\", test_acc)\n",
    "print(f\"Testing accuracy: {test_acc:.4f}\")"
   ]
  },
  {
   "cell_type": "markdown",
   "metadata": {},
   "source": [
    "## Close Client"
   ]
  },
  {
   "cell_type": "code",
   "execution_count": 17,
   "metadata": {},
   "outputs": [],
   "source": [
    "client.disconnect()"
   ]
  }
 ],
 "metadata": {
  "kernelspec": {
   "display_name": "Python 3",
   "language": "python",
   "name": "python3"
  },
  "language_info": {
   "codemirror_mode": {
    "name": "ipython",
    "version": 3
   },
   "file_extension": ".py",
   "mimetype": "text/x-python",
   "name": "python",
   "nbconvert_exporter": "python",
   "pygments_lexer": "ipython3",
   "version": "3.6.7"
  }
 },
 "nbformat": 4,
 "nbformat_minor": 2
}
