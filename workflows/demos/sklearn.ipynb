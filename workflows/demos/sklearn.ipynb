{
 "cells": [
  {
   "cell_type": "markdown",
   "metadata": {},
   "source": [
    "<a href=\"https://colab.research.google.com/github/VertaAI/modeldb-client/blob/development/workflows/demos/sklearn.ipynb\" target=\"_parent\"><img src=\"https://colab.research.google.com/assets/colab-badge.svg\" alt=\"Open In Colab\"/></a>"
   ]
  },
  {
   "cell_type": "markdown",
   "metadata": {},
   "source": [
    "# Logistic Regression with Grid Search (scikit-learn)"
   ]
  },
  {
   "cell_type": "code",
   "execution_count": null,
   "metadata": {},
   "outputs": [],
   "source": [
    "#Run this cell if you are running this python notebook on Google Colab and restart your notebook when prompted\n",
    "#!pip install verta"
   ]
  },
  {
   "cell_type": "code",
   "execution_count": 1,
   "metadata": {},
   "outputs": [],
   "source": [
    "import warnings\n",
    "from sklearn.exceptions import ConvergenceWarning\n",
    "warnings.filterwarnings(\"ignore\", category=ConvergenceWarning)"
   ]
  },
  {
   "cell_type": "code",
   "execution_count": 2,
   "metadata": {},
   "outputs": [],
   "source": [
    "import os, sys\n",
    "import json\n",
    "import itertools\n",
    "import time\n",
    "from multiprocessing import Pool\n",
    "\n",
    "import numpy as np\n",
    "\n",
    "from sklearn import model_selection\n",
    "from sklearn import linear_model\n",
    "from sklearn import metrics\n",
    "\n",
    "from verta import ModelDBClient\n",
    "\n",
    "\n",
    "DATA_DIR = os.path.join(\"..\", \"data\", \"census\")\n",
    "TRAIN_DATA_PATH = os.path.join(DATA_DIR, \"train-data.csv\")\n",
    "TEST_DATA_PATH = os.path.join(DATA_DIR, \"test-data.csv\")"
   ]
  },
  {
   "cell_type": "code",
   "execution_count": 3,
   "metadata": {},
   "outputs": [],
   "source": [
    "HOST = \"demo1.verta.ai\"\n",
    "PORT = 6244"
   ]
  },
  {
   "cell_type": "markdown",
   "metadata": {},
   "source": [
    "---"
   ]
  },
  {
   "cell_type": "markdown",
   "metadata": {},
   "source": [
    "# Log Workflow"
   ]
  },
  {
   "cell_type": "markdown",
   "metadata": {},
   "source": [
    "## Instantiate Client"
   ]
  },
  {
   "cell_type": "code",
   "execution_count": 4,
   "metadata": {
    "scrolled": false
   },
   "outputs": [
    {
     "name": "stdout",
     "output_type": "stream",
     "text": [
      "connection successfully established\n",
      "set existing Project: Conrado 4 - Income Classification\n",
      "set existing Experiment: Conrado 4 - Logistic Regression\n"
     ]
    }
   ],
   "source": [
    "client = ModelDBClient(HOST, PORT)\n",
    "proj = client.set_project(\"Conrado 4 - Income Classification\")\n",
    "expt = client.set_experiment(\"Conrado 4 - Logistic Regression\")"
   ]
  },
  {
   "cell_type": "markdown",
   "metadata": {},
   "source": [
    "## Create model API"
   ]
  },
  {
   "cell_type": "code",
   "execution_count": 5,
   "metadata": {
    "scrolled": true
   },
   "outputs": [],
   "source": [
    "with open(TRAIN_DATA_PATH) as f:\n",
    "    header = f.readline().strip()\n",
    "headers = header.split(\",\")\n",
    "api = {\n",
    "    \"input\": {\n",
    "        \"type\": \"list\",\n",
    "        \"fields\": [{\"name\":n, \"type\": \"float\"} for n in headers[:-1]]\n",
    "    },\n",
    "    \"output\": {\n",
    "        \"name\": headers[-1],\n",
    "        \"type\": \"float\"\n",
    "    }\n",
    "}\n",
    "\n",
    "with open('model_api.json', 'w') as f:\n",
    "    json.dump(api, f, indent=2)"
   ]
  },
  {
   "cell_type": "markdown",
   "metadata": {},
   "source": [
    "## Prepare Data"
   ]
  },
  {
   "cell_type": "code",
   "execution_count": 6,
   "metadata": {},
   "outputs": [],
   "source": [
    "csv = np.genfromtxt(TRAIN_DATA_PATH, delimiter=\",\")\n",
    "# Skip first line due to header. Last column is the label\n",
    "X_train = csv[1:,1:-1]\n",
    "y_train = csv[1:, -1]"
   ]
  },
  {
   "cell_type": "markdown",
   "metadata": {},
   "source": [
    "## Prepare Hyperparameters"
   ]
  },
  {
   "cell_type": "code",
   "execution_count": 7,
   "metadata": {},
   "outputs": [],
   "source": [
    "hyperparam_candidates = {\n",
    "    'C': [1e-6, 1e-4, 1e-3, 1e-2],\n",
    "    'solver': ['lbfgs'],\n",
    "    'max_iter': [15, 28, 45, 66],\n",
    "}\n",
    "hyperparam_sets = [dict(zip(hyperparam_candidates.keys(), values))\n",
    "                   for values\n",
    "                   in itertools.product(*hyperparam_candidates.values())]"
   ]
  },
  {
   "cell_type": "markdown",
   "metadata": {},
   "source": [
    "## Run Train and Validation"
   ]
  },
  {
   "cell_type": "code",
   "execution_count": 8,
   "metadata": {
    "scrolled": false
   },
   "outputs": [],
   "source": [
    "def run_experiment(hyperparams):\n",
    "    # create object to track experiment run\n",
    "    run = client.set_experiment_run(desc=\"\", tags=['AnacondaCon', 'demo'])\n",
    "        \n",
    "    # log data\n",
    "    run.log_dataset(\"train_data\", TRAIN_DATA_PATH)\n",
    "    \n",
    "    # log validation splits\n",
    "    (X_val_train, X_val_test,\n",
    "     y_val_train, y_val_test) = model_selection.train_test_split(X_train, y_train,\n",
    "                                                                 test_size=0.2,\n",
    "                                                                 shuffle=True)\n",
    "    \n",
    "    # log hyperparameters\n",
    "    run.log_hyperparameters(**hyperparams)\n",
    "    print(hyperparams, end=' ')\n",
    "    \n",
    "    # create and train model\n",
    "    model = linear_model.LogisticRegression(**hyperparams)\n",
    "    model.fit(X_val_train, y_val_train)\n",
    "    \n",
    "    # log validation accuracy\n",
    "    val_acc = model.score(X_val_test, y_val_test)\n",
    "    run.log_metric(\"val_acc\", val_acc)\n",
    "    print(\"Validation accuracy: {:.4f}\".format(val_acc))\n",
    "    \n",
    "    # log model\n",
    "    run.log_model(\"model\", model)\n",
    "    run.log_model_requirements_file(\"requirements.txt\")\n",
    "    run.log_model_api(\"model_api.json\")"
   ]
  },
  {
   "cell_type": "code",
   "execution_count": 9,
   "metadata": {},
   "outputs": [
    {
     "name": "stdout",
     "output_type": "stream",
     "text": [
      "{'C': 0.0001, 'solver': 'lbfgs', 'max_iter': 28} Validation accuracy: 0.7841\n",
      "{'C': 0.0001, 'solver': 'lbfgs', 'max_iter': 15} Validation accuracy: 0.7844\n",
      "{'C': 1e-06, 'solver': 'lbfgs', 'max_iter': 28} Validation accuracy: 0.7841\n",
      "{'C': 0.0001, 'solver': 'lbfgs', 'max_iter': 45} Validation accuracy: 0.7939\n",
      "{'C': 1e-06, 'solver': 'lbfgs', 'max_iter': 45} Validation accuracy: 0.7909\n",
      "{'C': 0.0001, 'solver': 'lbfgs', 'max_iter': 66} Validation accuracy: 0.8017\n",
      "{'C': 1e-06, 'solver': 'lbfgs', 'max_iter': 15} Validation accuracy: 0.7852\n",
      "{'C': 0.001, 'solver': 'lbfgs', 'max_iter': 15} Validation accuracy: 0.7857\n",
      "{'C': 0.001, 'solver': 'lbfgs', 'max_iter': 28} Validation accuracy: 0.7801\n",
      "{'C': 0.001, 'solver': 'lbfgs', 'max_iter': 45} Validation accuracy: 0.8043\n",
      "{'C': 0.01, 'solver': 'lbfgs', 'max_iter': 15} Validation accuracy: 0.7857\n",
      "{'C': 0.001, 'solver': 'lbfgs', 'max_iter': 66} Validation accuracy: 0.8074\n",
      "{'C': 0.01, 'solver': 'lbfgs', 'max_iter': 28} Validation accuracy: 0.7799\n",
      "{'C': 0.01, 'solver': 'lbfgs', 'max_iter': 45} Validation accuracy: 0.8122\n",
      "{'C': 1e-06, 'solver': 'lbfgs', 'max_iter': 66} Validation accuracy: 0.8011\n",
      "{'C': 0.01, 'solver': 'lbfgs', 'max_iter': 66} Validation accuracy: 0.8402\n"
     ]
    }
   ],
   "source": [
    "with Pool() as pool:\n",
    "    pool.map(run_experiment, hyperparam_sets)"
   ]
  },
  {
   "cell_type": "markdown",
   "metadata": {},
   "source": [
    "---"
   ]
  },
  {
   "cell_type": "markdown",
   "metadata": {},
   "source": [
    "## Select Best Experiment Run"
   ]
  },
  {
   "cell_type": "code",
   "execution_count": 10,
   "metadata": {
    "scrolled": false
   },
   "outputs": [
    {
     "name": "stdout",
     "output_type": "stream",
     "text": [
      "{'C': 0.01, 'solver': 'lbfgs', 'max_iter': 66}\n"
     ]
    }
   ],
   "source": [
    "# fetch best experiment run based on validation accuracy\n",
    "best_run = expt.expt_runs.top_k(\"metrics.val_acc\", 1)[0]\n",
    "best_hyperparams = best_run.get_hyperparameters()\n",
    "\n",
    "print(best_hyperparams)"
   ]
  },
  {
   "cell_type": "markdown",
   "metadata": {},
   "source": [
    "## Test Best Model"
   ]
  },
  {
   "cell_type": "code",
   "execution_count": 11,
   "metadata": {},
   "outputs": [],
   "source": [
    "csv = np.genfromtxt(TEST_DATA_PATH, delimiter=\",\")\n",
    "# Skip first line due to header. Last column is the label\n",
    "X_test = csv[1:,1:-1]\n",
    "y_test = csv[1:, -1]\n",
    "best_run.log_dataset(\"test_data\", TEST_DATA_PATH)"
   ]
  },
  {
   "cell_type": "code",
   "execution_count": 12,
   "metadata": {},
   "outputs": [
    {
     "name": "stdout",
     "output_type": "stream",
     "text": [
      "Training accuracy: 0.8386\n",
      "Testing accuracy: 0.8371\n"
     ]
    }
   ],
   "source": [
    "model = linear_model.LogisticRegression(**best_hyperparams)\n",
    "\n",
    "# fit on full training set\n",
    "model.fit(X_train, y_train)\n",
    "\n",
    "# log training accuracy\n",
    "train_acc = model.score(X_train, y_train)\n",
    "best_run.log_metric(\"train_acc\", train_acc)\n",
    "print(\"Training accuracy: {:.4f}\".format(train_acc))\n",
    "\n",
    "# log testing accuracy\n",
    "test_acc = model.score(X_test, y_test)\n",
    "best_run.log_metric(\"test_acc\", test_acc)\n",
    "print(\"Testing accuracy: {:.4f}\".format(test_acc))"
   ]
  }
 ],
 "metadata": {
  "kernelspec": {
   "display_name": "Python 3",
   "language": "python",
   "name": "python3"
  },
  "language_info": {
   "codemirror_mode": {
    "name": "ipython",
    "version": 3
   },
   "file_extension": ".py",
   "mimetype": "text/x-python",
   "name": "python",
   "nbconvert_exporter": "python",
   "pygments_lexer": "ipython3",
   "version": "3.7.2"
  }
 },
 "nbformat": 4,
 "nbformat_minor": 2
}
