{
 "cells": [
  {
   "cell_type": "markdown",
   "metadata": {},
   "source": [
    "# Logistic Regression with Grid Search (scikit-learn)"
   ]
  },
  {
   "cell_type": "markdown",
   "metadata": {},
   "source": [
    "---"
   ]
  },
  {
   "cell_type": "code",
   "execution_count": null,
   "metadata": {},
   "outputs": [],
   "source": [
    "email = \n",
    "dev_key = "
   ]
  },
  {
   "cell_type": "markdown",
   "metadata": {},
   "source": [
    "# Log Workflow"
   ]
  },
  {
   "cell_type": "code",
   "execution_count": null,
   "metadata": {},
   "outputs": [],
   "source": [
    "import os, sys\n",
    "import itertools\n",
    "import time\n",
    "\n",
    "import joblib\n",
    "\n",
    "import numpy as np\n",
    "\n",
    "from sklearn import model_selection\n",
    "from sklearn import linear_model\n",
    "from sklearn import metrics\n",
    "\n",
    "from verta import ModelDBClient"
   ]
  },
  {
   "cell_type": "markdown",
   "metadata": {},
   "source": [
    "## Instantiate Client"
   ]
  },
  {
   "cell_type": "code",
   "execution_count": null,
   "metadata": {
    "scrolled": true
   },
   "outputs": [],
   "source": [
    "client = ModelDBClient(email, dev_key)\n",
    "proj = client.set_project(\"Income Classification\")\n",
    "expt = client.set_experiment(\"Logistic Regression\")"
   ]
  },
  {
   "cell_type": "code",
   "execution_count": null,
   "metadata": {},
   "outputs": [],
   "source": [
    "TRAIN_DATA_PATH = os.path.join(\"..\", \"data\", \"census\", \"train.npz\")\n",
    "TEST_DATA_PATH = os.path.join(\"..\", \"data\", \"census\", \"test.npz\")\n",
    "MODEL_PATH = os.path.join(\"..\", \"output\", \"client-demo\", \"logreg_gridsearch_{}.gz\")"
   ]
  },
  {
   "cell_type": "markdown",
   "metadata": {},
   "source": [
    "## Prepare Data"
   ]
  },
  {
   "cell_type": "code",
   "execution_count": null,
   "metadata": {},
   "outputs": [],
   "source": [
    "train_data = np.load(TRAIN_DATA_PATH)\n",
    "\n",
    "X_train, y_train = train_data['X'], train_data['y']"
   ]
  },
  {
   "cell_type": "markdown",
   "metadata": {},
   "source": [
    "## Prepare Hyperparameters"
   ]
  },
  {
   "cell_type": "code",
   "execution_count": null,
   "metadata": {},
   "outputs": [],
   "source": [
    "hyperparam_candidates = {\n",
    "    'C': [1e-4, 1e-3, 1e-2, 1e-1],\n",
    "    'solver': ['lbfgs'],\n",
    "    'max_iter': [1e4],\n",
    "}\n",
    "hyperparam_sets = [dict(zip(hyperparam_candidates.keys(), values))\n",
    "                   for values\n",
    "                   in itertools.product(*hyperparam_candidates.values())]"
   ]
  },
  {
   "cell_type": "markdown",
   "metadata": {},
   "source": [
    "## Run Validation"
   ]
  },
  {
   "cell_type": "code",
   "execution_count": null,
   "metadata": {},
   "outputs": [],
   "source": [
    "for hyperparams in hyperparam_sets:\n",
    "    start_time = int(time.time())\n",
    "    \n",
    "    # create object to track experiment run\n",
    "    run = client.set_experiment_run()\n",
    "        \n",
    "    # log data\n",
    "    run.log_dataset(\"train_data\", TRAIN_DATA_PATH)\n",
    "    run.log_dataset(\"test_data\", TEST_DATA_PATH)\n",
    "    \n",
    "    # create validation split\n",
    "    X_train, X_val, y_train, y_val = model_selection.train_test_split(X_train, y_train,\n",
    "                                                                      test_size=0.1, shuffle=False)\n",
    "    # log hyperparameters\n",
    "    for key, val in hyperparams.items():\n",
    "        run.log_hyperparameter(key, val)\n",
    "    print(hyperparams, end=' ')\n",
    "    \n",
    "    # create and train model\n",
    "    model = linear_model.LogisticRegression(**hyperparams)\n",
    "    model.fit(X_train, y_train)\n",
    "    \n",
    "    # calculate and log validation accuracy\n",
    "    val_acc = model.score(X_val, y_val)\n",
    "    run.log_metric(\"val_acc\", val_acc)\n",
    "    print(\"Validation accuracy: {:.4f}\".format(val_acc))\n",
    "    \n",
    "    # save and log model\n",
    "    joblib.dump(model, MODEL_PATH.format(start_time))\n",
    "    run.log_model(\"model\", MODEL_PATH.format(start_time))"
   ]
  },
  {
   "cell_type": "markdown",
   "metadata": {},
   "source": [
    "## Clean Up"
   ]
  },
  {
   "cell_type": "code",
   "execution_count": null,
   "metadata": {},
   "outputs": [],
   "source": [
    "%reset -f"
   ]
  },
  {
   "cell_type": "markdown",
   "metadata": {},
   "source": [
    "---"
   ]
  },
  {
   "cell_type": "code",
   "execution_count": null,
   "metadata": {},
   "outputs": [],
   "source": [
    "email = \n",
    "dev_key = "
   ]
  },
  {
   "cell_type": "markdown",
   "metadata": {},
   "source": [
    "# Load Workflow"
   ]
  },
  {
   "cell_type": "code",
   "execution_count": null,
   "metadata": {},
   "outputs": [],
   "source": [
    "import os, sys\n",
    "import itertools\n",
    "\n",
    "import joblib\n",
    "\n",
    "import numpy as np\n",
    "\n",
    "from sklearn import model_selection\n",
    "from sklearn import linear_model\n",
    "from sklearn import metrics\n",
    "\n",
    "from verta import ModelDBClient"
   ]
  },
  {
   "cell_type": "markdown",
   "metadata": {},
   "source": [
    "## Instantiate Client"
   ]
  },
  {
   "cell_type": "code",
   "execution_count": null,
   "metadata": {},
   "outputs": [],
   "source": [
    "client = ModelDBClient(email, dev_key)\n",
    "proj = client.set_project(\"Income Classification\")\n",
    "expt = client.set_experiment(\"Logistic Regression\")"
   ]
  },
  {
   "cell_type": "markdown",
   "metadata": {},
   "source": [
    "## Select Best Experiment Run"
   ]
  },
  {
   "cell_type": "code",
   "execution_count": null,
   "metadata": {
    "scrolled": true
   },
   "outputs": [],
   "source": [
    "# fetch best experiment run based on validation accuracy\n",
    "best_run = sorted(client.expt_runs, key=lambda run: run.get_metrics()['val_acc'])[-1]"
   ]
  },
  {
   "cell_type": "markdown",
   "metadata": {},
   "source": [
    "## Restore Training Data"
   ]
  },
  {
   "cell_type": "code",
   "execution_count": null,
   "metadata": {},
   "outputs": [],
   "source": [
    "TRAIN_DATA_PATH = best_run.get_datasets()['train_data']\n",
    "\n",
    "train_data = np.load(TRAIN_DATA_PATH)\n",
    "X_train, y_train = train_data['X'], train_data['y']"
   ]
  },
  {
   "cell_type": "markdown",
   "metadata": {},
   "source": [
    "## Restore Hyperparameters"
   ]
  },
  {
   "cell_type": "code",
   "execution_count": null,
   "metadata": {},
   "outputs": [],
   "source": [
    "best_hyperparams = best_run.get_hyperparameters()\n",
    "best_val_acc = best_run.get_metrics()['val_acc']\n",
    "\n",
    "print(\"{} Validation accuracy: {:.4f}\".format(best_hyperparams, best_val_acc))"
   ]
  },
  {
   "cell_type": "markdown",
   "metadata": {},
   "source": [
    "## Restore Earlier Model to Verify"
   ]
  },
  {
   "cell_type": "code",
   "execution_count": null,
   "metadata": {},
   "outputs": [],
   "source": [
    "MODEL_PATH = best_run.get_models()['model']\n",
    "\n",
    "model = joblib.load(MODEL_PATH)\n",
    "\n",
    "acc = model.score(X_train, y_train)\n",
    "print(\"Accuracy on full training set: {:.4f}\".format(acc))"
   ]
  },
  {
   "cell_type": "markdown",
   "metadata": {},
   "source": [
    "## Retrain Model on Full Training Set"
   ]
  },
  {
   "cell_type": "code",
   "execution_count": null,
   "metadata": {
    "scrolled": true
   },
   "outputs": [],
   "source": [
    "model = linear_model.LogisticRegression(**best_hyperparams)\n",
    "model.fit(X_train, y_train)\n",
    "\n",
    "train_acc = model.score(X_train, y_train)\n",
    "best_run.log_metric(\"train_acc\", train_acc)\n",
    "print(\"Training accuracy: {:.4f}\".format(train_acc))"
   ]
  },
  {
   "cell_type": "markdown",
   "metadata": {},
   "source": [
    "## Run and Log Testing"
   ]
  },
  {
   "cell_type": "code",
   "execution_count": null,
   "metadata": {},
   "outputs": [],
   "source": [
    "TEST_DATA_PATH = best_run.get_datasets()['test_data']\n",
    "\n",
    "test_data = np.load(TEST_DATA_PATH)\n",
    "X_test, y_test = test_data['X'], test_data['y']\n",
    "\n",
    "test_acc = model.score(X_test, y_test)\n",
    "best_run.log_metric(\"test_acc\", test_acc)\n",
    "print(\"Testing accuracy: {:.4f}\".format(test_acc))"
   ]
  }
 ],
 "metadata": {
  "kernelspec": {
   "display_name": "Python 3",
   "language": "python",
   "name": "python3"
  },
  "language_info": {
   "codemirror_mode": {
    "name": "ipython",
    "version": 3
   },
   "file_extension": ".py",
   "mimetype": "text/x-python",
   "name": "python",
   "nbconvert_exporter": "python",
   "pygments_lexer": "ipython3",
   "version": "3.6.7"
  }
 },
 "nbformat": 4,
 "nbformat_minor": 2
}
