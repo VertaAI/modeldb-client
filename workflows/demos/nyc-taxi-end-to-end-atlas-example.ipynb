{
 "cells": [
  {
   "cell_type": "markdown",
   "metadata": {},
   "source": [
    "# Dataset on Atlas/Hive"
   ]
  },
  {
   "cell_type": "markdown",
   "metadata": {},
   "source": [
    "<a href=\"https://colab.research.google.com/github/VertaAI/modeldb-client/blob/master/workflows/demos/sklearn.ipynb\" target=\"_parent\"><img src=\"https://colab.research.google.com/assets/colab-badge.svg\" alt=\"Open In Colab\"/></a>"
   ]
  },
  {
   "cell_type": "markdown",
   "metadata": {},
   "source": [
    "## Cell use ful for live development"
   ]
  },
  {
   "cell_type": "code",
   "execution_count": null,
   "metadata": {},
   "outputs": [],
   "source": [
    "#%load_ext autoreload\n",
    "#%autoreload 2"
   ]
  },
  {
   "cell_type": "code",
   "execution_count": null,
   "metadata": {},
   "outputs": [],
   "source": [
    "# restart your notebook if prompted on Colab\n",
    "try:\n",
    "    import verta\n",
    "except ModuleNotFoundError:\n",
    "    !pip3 install verta"
   ]
  },
  {
   "cell_type": "code",
   "execution_count": null,
   "metadata": {},
   "outputs": [],
   "source": [
    "try:\n",
    "    from pyhive import hive\n",
    "except ModuleNotFoundError:\n",
    "    !pip3 install pyhive\n",
    "    !pip3 install thrift\n",
    "    !pip3 install sasl\n",
    "    !pip3 install thrift_sasl\n",
    "    from pyhive import hive"
   ]
  },
  {
   "cell_type": "code",
   "execution_count": null,
   "metadata": {},
   "outputs": [],
   "source": [
    "HOST = \"demo.app.verta.ai\"\n",
    "\n",
    "PROJECT_NAME = \"New york Cab demand Prediction- S3 demo CC\"\n",
    "EXPERIMENT_NAME = \"Experiment Only to showcase Datasets\""
   ]
  },
  {
   "cell_type": "code",
   "execution_count": null,
   "metadata": {},
   "outputs": [],
   "source": [
    "#import os\n",
    "#os.environ['VERTA_EMAIL'] = ''\n",
    "#os.environ['VERTA_DEV_KEY'] = ''"
   ]
  },
  {
   "cell_type": "markdown",
   "metadata": {},
   "source": [
    "## Imports"
   ]
  },
  {
   "cell_type": "code",
   "execution_count": null,
   "metadata": {},
   "outputs": [],
   "source": [
    "import warnings\n",
    "from sklearn.exceptions import ConvergenceWarning\n",
    "warnings.filterwarnings(\"ignore\", category=ConvergenceWarning)\n",
    "\n",
    "import itertools\n",
    "from multiprocessing import Pool\n",
    "import os\n",
    "import time\n",
    "\n",
    "import six\n",
    "\n",
    "import numpy as np\n",
    "import pandas as pd\n",
    "\n",
    "import sklearn\n",
    "from sklearn import model_selection\n",
    "from sklearn import linear_model\n",
    "from sklearn import metrics"
   ]
  },
  {
   "cell_type": "markdown",
   "metadata": {},
   "source": [
    "---"
   ]
  },
  {
   "cell_type": "markdown",
   "metadata": {},
   "source": [
    "# Read connection information for Atlas/Hive from environment"
   ]
  },
  {
   "cell_type": "code",
   "execution_count": null,
   "metadata": {},
   "outputs": [],
   "source": [
    "atlas_user_name = \"\"\n",
    "atlas_password = \"\"\n",
    "hive_password = \"\"\n",
    "atlas_url = %env ATLAS_URL\n",
    "atlas_user_name = %env ATLAS_USER_NAME\n",
    "atlas_password = %env ATLAS_PASSWORD\n",
    "hive_url =  %env HIVE_URL\n",
    "hive_password = %env HIVE_PASSWORD\n",
    "print (\"Atlas username set : \" + str(atlas_user_name!=\"\"))\n",
    "print (\"Atlas password set : \" + str(atlas_password!=\"\"))\n",
    "print (\"Hive password set : \" + str(hive_password!=\"\"))\n",
    "[atlas_url, hive_url]"
   ]
  },
  {
   "cell_type": "markdown",
   "metadata": {},
   "source": [
    "# Log Workflow"
   ]
  },
  {
   "cell_type": "markdown",
   "metadata": {},
   "source": [
    "## Instantiate Client"
   ]
  },
  {
   "cell_type": "code",
   "execution_count": null,
   "metadata": {
    "scrolled": true
   },
   "outputs": [],
   "source": [
    "from verta import Client\n",
    "from verta.utils import ModelAPI\n",
    "\n",
    "client = Client(HOST)\n",
    "proj = client.set_project(PROJECT_NAME)\n",
    "expt = client.set_experiment(EXPERIMENT_NAME)"
   ]
  },
  {
   "cell_type": "markdown",
   "metadata": {},
   "source": [
    "## Create Dataset and Dataset version"
   ]
  },
  {
   "cell_type": "code",
   "execution_count": null,
   "metadata": {},
   "outputs": [],
   "source": [
    "dataset = client.create_atlas_hive_dataset(\"NYC Cab Dataset From Atlas + Hive\")"
   ]
  },
  {
   "cell_type": "code",
   "execution_count": null,
   "metadata": {},
   "outputs": [],
   "source": [
    "atlas_entity_endpoint = \"/api/atlas/v2/entity/bulk\"\n",
    "atlas_guid = \"d2fdde40-706f-44af-afde-155177b8d2e4\""
   ]
  },
  {
   "cell_type": "code",
   "execution_count": null,
   "metadata": {},
   "outputs": [],
   "source": [
    "version =  client.create_atlas_hive_dataset_version(dataset, atlas_guid, \n",
    "                                                   atlas_url, atlas_user_name,\n",
    "                                                   atlas_password)"
   ]
  },
  {
   "cell_type": "markdown",
   "metadata": {},
   "source": [
    "---"
   ]
  },
  {
   "cell_type": "markdown",
   "metadata": {},
   "source": [
    "# Fetcing data from Hive"
   ]
  },
  {
   "cell_type": "code",
   "execution_count": null,
   "metadata": {},
   "outputs": [],
   "source": [
    "table_name = list(filter(lambda x: x.key==\"table_name\", version.attrs))[0].value.string_value\n",
    "database_name = list(filter(lambda x: x.key==\"database_name\", version.attrs))[0].value.string_value\n",
    "query = \"select * from \"+database_name+\".\"+table_name"
   ]
  },
  {
   "cell_type": "code",
   "execution_count": null,
   "metadata": {},
   "outputs": [],
   "source": [
    "cursor = hive.connect(hive_url).cursor()\n",
    "cursor.execute(query)\n",
    "\n",
    "data = cursor.fetchall()\n",
    "\n",
    "col_names =  [ x[0] for x in cursor.description]\n",
    "data_frame = pd.DataFrame( data, columns=col_names)\n",
    "data_frame.head()"
   ]
  }
 ],
 "metadata": {
  "kernelspec": {
   "display_name": "Python 3",
   "language": "python",
   "name": "python3"
  },
  "language_info": {
   "codemirror_mode": {
    "name": "ipython",
    "version": 3
   },
   "file_extension": ".py",
   "mimetype": "text/x-python",
   "name": "python",
   "nbconvert_exporter": "python",
   "pygments_lexer": "ipython3",
   "version": "3.7.3"
  }
 },
 "nbformat": 4,
 "nbformat_minor": 2
}
