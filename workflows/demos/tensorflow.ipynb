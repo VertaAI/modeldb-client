{
 "cells": [
  {
   "cell_type": "markdown",
   "metadata": {},
   "source": [
    "<a href=\"https://colab.research.google.com/github/VertaAI/modeldb-client/blob/development/workflows/demos/tensorflow.ipynb\" target=\"_parent\"><img src=\"https://colab.research.google.com/assets/colab-badge.svg\" alt=\"Open In Colab\"/></a>"
   ]
  },
  {
   "cell_type": "markdown",
   "metadata": {},
   "source": [
    "# Fully-Connected Network (TensorFlow)"
   ]
  },
  {
   "cell_type": "code",
   "execution_count": null,
   "metadata": {
    "collapsed": true
   },
   "outputs": [],
   "source": [
    "#Run this cell if you are running this python notebook on Google Colab and restart your notebook when prompted\n",
    "!pip install verta"
   ]
  },
  {
   "cell_type": "code",
   "execution_count": null,
   "metadata": {
    "collapsed": true
   },
   "outputs": [],
   "source": [
    "import os, sys\n",
    "\n",
    "import numpy as np\n",
    "\n",
    "import tensorflow as tf\n",
    "from tensorflow import keras\n",
    "\n",
    "import matplotlib.pyplot as plt\n",
    "\n",
    "from verta import ModelDBClient\n",
    "\n",
    "\n",
    "data_dir = os.path.join(\"..\", \"data\", \"mnist\")\n",
    "output_dir = os.path.join(\"..\", \"output\", \"tensorflow\")\n",
    "os.makedirs(data_dir, exist_ok=True)\n",
    "os.makedirs(output_dir, exist_ok=True)"
   ]
  },
  {
   "cell_type": "code",
   "execution_count": null,
   "metadata": {
    "collapsed": true
   },
   "outputs": [],
   "source": [
    "HOST = \n",
    "PORT = "
   ]
  },
  {
   "cell_type": "markdown",
   "metadata": {},
   "source": [
    "---"
   ]
  },
  {
   "cell_type": "markdown",
   "metadata": {},
   "source": [
    "# Log Workflow"
   ]
  },
  {
   "cell_type": "markdown",
   "metadata": {},
   "source": [
    "## Instantiate Client"
   ]
  },
  {
   "cell_type": "code",
   "execution_count": null,
   "metadata": {
    "collapsed": true
   },
   "outputs": [],
   "source": [
    "client = ModelDBClient(HOST, PORT)\n",
    "proj = client.set_project(\"MNIST Multiclassification\")\n",
    "expt = client.set_experiment(\"FC-NN\")"
   ]
  },
  {
   "cell_type": "markdown",
   "metadata": {},
   "source": [
    "## Begin Experiment Run"
   ]
  },
  {
   "cell_type": "code",
   "execution_count": null,
   "metadata": {
    "collapsed": true
   },
   "outputs": [],
   "source": [
    "run = client.set_experiment_run(\"Test Run\")\n",
    "\n",
    "# define everything we need to run this experiment\n",
    "TRAIN_DATA_PATH = os.path.join(data_dir, \"train.npz\")\n",
    "TEST_DATA_PATH = os.path.join(data_dir, \"test.npz\")\n",
    "VAL_PLOT_PATH = os.path.join(output_dir, \"val_obs.png\")\n",
    "MODEL_PATH = os.path.join(output_dir, \"tensorflow-basic.hdf5\")\n",
    "\n",
    "HIDDEN_SIZE = 512\n",
    "DROPOUT = 0.2\n",
    "\n",
    "OPTIMIZER = 'adam'\n",
    "LOSS = 'sparse_categorical_crossentropy'\n",
    "\n",
    "BATCH_SIZE = 1024\n",
    "NUM_EPOCHS = 2\n",
    "VALIDATION_SPLIT = 0.1"
   ]
  },
  {
   "cell_type": "markdown",
   "metadata": {},
   "source": [
    "## Define and Log Model"
   ]
  },
  {
   "cell_type": "code",
   "execution_count": null,
   "metadata": {
    "collapsed": true
   },
   "outputs": [],
   "source": [
    "model = keras.models.Sequential()\n",
    "model.add(keras.layers.Flatten())\n",
    "model.add(keras.layers.Dense(HIDDEN_SIZE, activation=tf.nn.relu))\n",
    "model.add(keras.layers.Dropout(DROPOUT))\n",
    "model.add(keras.layers.Dense(10, activation=tf.nn.softmax))\n",
    "\n",
    "run.log_hyperparameter(\"hidden_size\", HIDDEN_SIZE)\n",
    "run.log_hyperparameter(\"dropout\", DROPOUT)"
   ]
  },
  {
   "cell_type": "markdown",
   "metadata": {},
   "source": [
    "## Compile and Log Training Procedure"
   ]
  },
  {
   "cell_type": "code",
   "execution_count": null,
   "metadata": {
    "collapsed": true
   },
   "outputs": [],
   "source": [
    "model.compile(optimizer=OPTIMIZER,\n",
    "              loss=LOSS,\n",
    "              metrics=['accuracy'])\n",
    "\n",
    "run.log_hyperparameter(\"optimizer\", OPTIMIZER)\n",
    "run.log_hyperparameter(\"loss\", LOSS)"
   ]
  },
  {
   "cell_type": "markdown",
   "metadata": {},
   "source": [
    "## Load and Log Training Data"
   ]
  },
  {
   "cell_type": "code",
   "execution_count": null,
   "metadata": {
    "collapsed": true
   },
   "outputs": [],
   "source": [
    "train_data = np.load(TRAIN_DATA_PATH)\n",
    "run.log_dataset(\"train_data\", TRAIN_DATA_PATH)\n",
    "run.log_dataset(\"test_data\", TEST_DATA_PATH)\n",
    "\n",
    "X_train, y_train = train_data['X'], train_data['y']"
   ]
  },
  {
   "cell_type": "markdown",
   "metadata": {},
   "source": [
    "## Run and Log Validation"
   ]
  },
  {
   "cell_type": "code",
   "execution_count": null,
   "metadata": {
    "collapsed": true,
    "scrolled": false
   },
   "outputs": [],
   "source": [
    "run.log_hyperparameter(\"batch_size\", BATCH_SIZE)\n",
    "run.log_hyperparameter(\"num_epochs\", NUM_EPOCHS)\n",
    "run.log_hyperparameter(\"validation_split\", VALIDATION_SPLIT)\n",
    "\n",
    "def log_validation(epoch, logs):  # Keras will call this each epoch\n",
    "    run.log_observation(\"val_train_loss\", float(logs['loss']))\n",
    "    run.log_observation(\"val_train_acc\", float(logs['acc']))\n",
    "    run.log_observation(\"val_loss\", float(logs['val_loss']))\n",
    "    run.log_observation(\"val_acc\", float(logs['val_acc']))\n",
    "\n",
    "_ = model.fit(X_train, y_train, validation_split=VALIDATION_SPLIT,\n",
    "              batch_size=BATCH_SIZE, epochs=NUM_EPOCHS,\n",
    "              callbacks=[keras.callbacks.LambdaCallback(on_epoch_end=log_validation)])"
   ]
  },
  {
   "cell_type": "markdown",
   "metadata": {},
   "source": [
    "## Produce and Log Accuracy Plot"
   ]
  },
  {
   "cell_type": "code",
   "execution_count": null,
   "metadata": {
    "collapsed": true
   },
   "outputs": [],
   "source": [
    "# retrieve observations from our ExperimentRun instance\n",
    "plt.plot(run.get_observations(\"val_acc\"), label=\"val\")\n",
    "plt.plot(run.get_observations(\"val_train_acc\"), label=\"train\")\n",
    "\n",
    "plt.ylim(0, 1)\n",
    "plt.xlabel(\"epoch\")\n",
    "plt.ylabel(\"accuracy\")\n",
    "plt.legend(loc='best')\n",
    "\n",
    "plt.savefig(VAL_PLOT_PATH)\n",
    "run.log_image(\"validation_plot\", VAL_PLOT_PATH)\n",
    "\n",
    "plt.show()"
   ]
  },
  {
   "cell_type": "markdown",
   "metadata": {},
   "source": [
    "## Save and Log Model"
   ]
  },
  {
   "cell_type": "code",
   "execution_count": null,
   "metadata": {
    "collapsed": true,
    "scrolled": false
   },
   "outputs": [],
   "source": [
    "keras.models.save_model(model, MODEL_PATH)\n",
    "run.log_model(\"model\", MODEL_PATH)"
   ]
  },
  {
   "cell_type": "markdown",
   "metadata": {},
   "source": [
    "---"
   ]
  },
  {
   "cell_type": "markdown",
   "metadata": {},
   "source": [
    "# Load Workflow"
   ]
  },
  {
   "cell_type": "markdown",
   "metadata": {},
   "source": [
    "## Instantiate Client"
   ]
  },
  {
   "cell_type": "code",
   "execution_count": null,
   "metadata": {
    "collapsed": true
   },
   "outputs": [],
   "source": [
    "client = ModelDBClient(HOST, PORT)\n",
    "proj = client.set_project(\"MNIST Multiclassification\")\n",
    "expt = client.set_experiment(\"FC-NN\")"
   ]
  },
  {
   "cell_type": "markdown",
   "metadata": {},
   "source": [
    "## Load Experiment Run"
   ]
  },
  {
   "cell_type": "code",
   "execution_count": null,
   "metadata": {
    "collapsed": true
   },
   "outputs": [],
   "source": [
    "run = client.set_experiment_run(\"Test Run\")\n",
    "\n",
    "# retrieve everything we need from our ExperimentRun instance\n",
    "datasets = run.get_datasets()\n",
    "models = run.get_models()\n",
    "hyperparameters = run.get_hyperparameters()\n",
    "\n",
    "TRAIN_DATA_PATH = datasets['train_data']\n",
    "TEST_DATA_PATH = datasets['test_data']\n",
    "VAL_PLOT_PATH = run.get_image(\"validation_plot\")\n",
    "MODEL_PATH = models['model']\n",
    "\n",
    "HIDDEN_SIZE = hyperparameters['hidden_size']\n",
    "DROPOUT = hyperparameters['dropout']\n",
    "\n",
    "OPTIMIZER = hyperparameters['optimizer']\n",
    "LOSS = hyperparameters['loss']\n",
    "\n",
    "BATCH_SIZE = hyperparameters['batch_size']\n",
    "NUM_EPOCHS = hyperparameters['num_epochs']\n",
    "VALIDATION_SPLIT = hyperparameters['validation_split']"
   ]
  },
  {
   "cell_type": "markdown",
   "metadata": {},
   "source": [
    "## Restore Accuracy Plot"
   ]
  },
  {
   "cell_type": "code",
   "execution_count": null,
   "metadata": {
    "collapsed": true
   },
   "outputs": [],
   "source": [
    "img = plt.imread(VAL_PLOT_PATH)\n",
    "plt.figure(figsize=(8, 6))\n",
    "plt.axis('off')\n",
    "\n",
    "img_plt = plt.imshow(img)"
   ]
  },
  {
   "cell_type": "markdown",
   "metadata": {},
   "source": [
    "## Restore Model Definition"
   ]
  },
  {
   "cell_type": "code",
   "execution_count": null,
   "metadata": {
    "collapsed": true
   },
   "outputs": [],
   "source": [
    "model = keras.models.Sequential()\n",
    "model.add(keras.layers.Flatten())\n",
    "model.add(keras.layers.Dense(HIDDEN_SIZE, activation=tf.nn.relu))\n",
    "model.add(keras.layers.Dropout(DROPOUT))\n",
    "model.add(keras.layers.Dense(10, activation=tf.nn.softmax))"
   ]
  },
  {
   "cell_type": "markdown",
   "metadata": {},
   "source": [
    "## Restore Training Procedure Definition"
   ]
  },
  {
   "cell_type": "code",
   "execution_count": null,
   "metadata": {
    "collapsed": true
   },
   "outputs": [],
   "source": [
    "model.compile(optimizer=OPTIMIZER,\n",
    "              loss=LOSS,\n",
    "              metrics=['accuracy'])"
   ]
  },
  {
   "cell_type": "markdown",
   "metadata": {},
   "source": [
    "## Restore Training Data"
   ]
  },
  {
   "cell_type": "code",
   "execution_count": null,
   "metadata": {
    "collapsed": true
   },
   "outputs": [],
   "source": [
    "train_data = np.load(TRAIN_DATA_PATH)\n",
    "X_train, y_train = train_data['X'], train_data['y']"
   ]
  },
  {
   "cell_type": "markdown",
   "metadata": {},
   "source": [
    "## Retrain Model on Full Training Set"
   ]
  },
  {
   "cell_type": "code",
   "execution_count": null,
   "metadata": {
    "collapsed": true
   },
   "outputs": [],
   "source": [
    "def log_test(epoch, logs):  # Keras will call this each epoch\n",
    "    run.log_observation(\"train_loss\", float(logs['loss']))\n",
    "    run.log_observation(\"train_acc\", float(logs['acc']))\n",
    "\n",
    "_ = model.fit(X_train, y_train,\n",
    "              batch_size=BATCH_SIZE, epochs=NUM_EPOCHS,\n",
    "              callbacks=[keras.callbacks.LambdaCallback(on_epoch_end=log_test)])"
   ]
  },
  {
   "cell_type": "markdown",
   "metadata": {},
   "source": [
    "## Run and Log Testing"
   ]
  },
  {
   "cell_type": "code",
   "execution_count": null,
   "metadata": {
    "collapsed": true
   },
   "outputs": [],
   "source": [
    "test_data = np.load(TEST_DATA_PATH)\n",
    "X_test, y_test = test_data['X'], test_data['y']\n",
    "\n",
    "test_loss, test_acc = model.evaluate(X_test, y_test)\n",
    "print(\"test_loss: {:.4f} - test_acc: {:.4f}\".format(test_loss, test_acc))\n",
    "\n",
    "run.log_metric(\"test_loss\", test_loss)\n",
    "run.log_metric(\"test_acc\", test_acc)"
   ]
  }
 ],
 "metadata": {
  "kernelspec": {
   "display_name": "Python 3",
   "language": "python",
   "name": "python3"
  },
  "language_info": {
   "codemirror_mode": {
    "name": "ipython",
    "version": 3
   },
   "file_extension": ".py",
   "mimetype": "text/x-python",
   "name": "python",
   "nbconvert_exporter": "python",
   "pygments_lexer": "ipython3",
   "version": "3.6.8"
  }
 },
 "nbformat": 4,
 "nbformat_minor": 2
}
