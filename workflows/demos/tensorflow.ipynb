{
 "cells": [
  {
   "cell_type": "markdown",
   "metadata": {},
   "source": [
    "# Fully-Connected Network (TensorFlow)"
   ]
  },
  {
   "cell_type": "markdown",
   "metadata": {},
   "source": [
    "---"
   ]
  },
  {
   "cell_type": "markdown",
   "metadata": {},
   "source": [
    "# Log Workflow"
   ]
  },
  {
   "cell_type": "code",
   "execution_count": 1,
   "metadata": {},
   "outputs": [],
   "source": [
    "import os, sys\n",
    "\n",
    "import numpy as np\n",
    "\n",
    "import tensorflow as tf\n",
    "from tensorflow import keras\n",
    "\n",
    "import matplotlib.pyplot as plt\n",
    "\n",
    "sys.path.append(os.path.join(\"..\", \"modeldb\"))\n",
    "from modeldbclient import ModelDBClient"
   ]
  },
  {
   "cell_type": "markdown",
   "metadata": {},
   "source": [
    "## Instantiate Client"
   ]
  },
  {
   "cell_type": "code",
   "execution_count": 2,
   "metadata": {},
   "outputs": [],
   "source": [
    "client = ModelDBClient()\n",
    "proj = client.set_project(\"MNIST Multiclassification\")\n",
    "expt = client.set_experiment(\"FC-NN\")"
   ]
  },
  {
   "cell_type": "markdown",
   "metadata": {},
   "source": [
    "## Begin Experiment Run"
   ]
  },
  {
   "cell_type": "code",
   "execution_count": 3,
   "metadata": {},
   "outputs": [],
   "source": [
    "run = client.set_experiment_run(\"Test Run\")\n",
    "\n",
    "# define everything we need to run this experiment\n",
    "TRAIN_DATA_PATH = os.path.join(\"..\", \"data\", \"mnist\", \"train.npz\")\n",
    "TEST_DATA_PATH = os.path.join(\"..\", \"data\", \"mnist\", \"test.npz\")\n",
    "VAL_PLOT_PATH = os.path.join(\"..\", \"output\", \"val_obs.png\")\n",
    "MODEL_PATH = os.path.join(\"..\", \"output\", \"tensorflow-basic.hdf5\")\n",
    "\n",
    "HIDDEN_SIZE = 512\n",
    "DROPOUT = 0.2\n",
    "\n",
    "OPTIMIZER = 'adam'\n",
    "LOSS = 'sparse_categorical_crossentropy'\n",
    "\n",
    "BATCH_SIZE = 1024\n",
    "NUM_EPOCHS = 4\n",
    "VALIDATION_SPLIT = 0.1"
   ]
  },
  {
   "cell_type": "markdown",
   "metadata": {},
   "source": [
    "## Define and Log Model"
   ]
  },
  {
   "cell_type": "code",
   "execution_count": 4,
   "metadata": {},
   "outputs": [],
   "source": [
    "model = keras.models.Sequential()\n",
    "model.add(keras.layers.Flatten())\n",
    "model.add(keras.layers.Dense(HIDDEN_SIZE, activation=tf.nn.relu))\n",
    "model.add(keras.layers.Dropout(DROPOUT))\n",
    "model.add(keras.layers.Dense(10, activation=tf.nn.softmax))\n",
    "\n",
    "run.log_hyperparameter(\"hidden size\", HIDDEN_SIZE)\n",
    "run.log_hyperparameter(\"dropout\", DROPOUT)"
   ]
  },
  {
   "cell_type": "markdown",
   "metadata": {},
   "source": [
    "## Compile and Log Training Procedure"
   ]
  },
  {
   "cell_type": "code",
   "execution_count": 5,
   "metadata": {},
   "outputs": [],
   "source": [
    "model.compile(optimizer=OPTIMIZER,\n",
    "              loss=LOSS,\n",
    "              metrics=['accuracy'])\n",
    "\n",
    "run.log_hyperparameter(\"optimizer\", OPTIMIZER)\n",
    "run.log_hyperparameter(\"loss\", LOSS)"
   ]
  },
  {
   "cell_type": "markdown",
   "metadata": {},
   "source": [
    "## Load and Log Training Data"
   ]
  },
  {
   "cell_type": "code",
   "execution_count": 6,
   "metadata": {},
   "outputs": [],
   "source": [
    "train_data = np.load(TRAIN_DATA_PATH)\n",
    "run.log_dataset(\"train data\", TRAIN_DATA_PATH)\n",
    "run.log_dataset(\"test data\", TEST_DATA_PATH)\n",
    "\n",
    "X_train, y_train = train_data['X'], train_data['y']"
   ]
  },
  {
   "cell_type": "markdown",
   "metadata": {},
   "source": [
    "## Run and Log Validation"
   ]
  },
  {
   "cell_type": "code",
   "execution_count": 7,
   "metadata": {
    "scrolled": false
   },
   "outputs": [
    {
     "name": "stdout",
     "output_type": "stream",
     "text": [
      "Train on 54000 samples, validate on 6000 samples\n",
      "Epoch 1/4\n",
      "54000/54000 [==============================] - 5s 94us/step - loss: 0.6073 - acc: 0.8361 - val_loss: 0.2252 - val_acc: 0.9382\n",
      "Epoch 2/4\n",
      "54000/54000 [==============================] - 2s 42us/step - loss: 0.2419 - acc: 0.9316 - val_loss: 0.1720 - val_acc: 0.9530\n",
      "Epoch 3/4\n",
      "54000/54000 [==============================] - 3s 63us/step - loss: 0.1870 - acc: 0.9472 - val_loss: 0.1386 - val_acc: 0.9620\n",
      "Epoch 4/4\n",
      "54000/54000 [==============================] - 5s 97us/step - loss: 0.1471 - acc: 0.9586 - val_loss: 0.1202 - val_acc: 0.9675\n"
     ]
    }
   ],
   "source": [
    "run.log_hyperparameter(\"batch size\", BATCH_SIZE)\n",
    "run.log_hyperparameter(\"num epochs\", NUM_EPOCHS)\n",
    "run.log_hyperparameter(\"validation split\", VALIDATION_SPLIT)\n",
    "\n",
    "def log_validation(epoch, logs):  # Keras will call this each epoch\n",
    "    run.log_observation(\"val train loss\", float(logs['loss']))\n",
    "    run.log_observation(\"val train acc\", float(logs['acc']))\n",
    "    run.log_observation(\"val loss\", float(logs['val_loss']))\n",
    "    run.log_observation(\"val acc\", float(logs['val_acc']))\n",
    "\n",
    "_ = model.fit(X_train, y_train, validation_split=VALIDATION_SPLIT,\n",
    "              batch_size=BATCH_SIZE, epochs=NUM_EPOCHS,\n",
    "              callbacks=[keras.callbacks.LambdaCallback(on_epoch_end=log_validation)])"
   ]
  },
  {
   "cell_type": "markdown",
   "metadata": {},
   "source": [
    "## Produce and Log Accuracy Plot"
   ]
  },
  {
   "cell_type": "code",
   "execution_count": 8,
   "metadata": {},
   "outputs": [
    {
     "data": {
      "image/png": "[encoded data removed]",
      "text/plain": [
       "<Figure size 432x288 with 1 Axes>"
      ]
     },
     "metadata": {
      "needs_background": "light"
     },
     "output_type": "display_data"
    }
   ],
   "source": [
    "# retrieve observations from our ExperimentRun instance\n",
    "plt.plot(run.get_observations(\"val acc\"), label=\"val\")\n",
    "plt.plot(run.get_observations(\"val train acc\"), label=\"train\")\n",
    "\n",
    "plt.ylim(0, 1)\n",
    "plt.xlabel(\"epoch\")\n",
    "plt.ylabel(\"accuracy\")\n",
    "plt.legend(loc='best')\n",
    "\n",
    "plt.savefig(VAL_PLOT_PATH)\n",
    "run.log_image(\"validation plot\", VAL_PLOT_PATH)\n",
    "\n",
    "plt.show()"
   ]
  },
  {
   "cell_type": "markdown",
   "metadata": {},
   "source": [
    "## Save and Log Model"
   ]
  },
  {
   "cell_type": "code",
   "execution_count": 9,
   "metadata": {
    "scrolled": false
   },
   "outputs": [],
   "source": [
    "keras.models.save_model(model, MODEL_PATH)\n",
    "run.log_model(\"model\", MODEL_PATH)"
   ]
  },
  {
   "cell_type": "markdown",
   "metadata": {},
   "source": [
    "## Clean Up"
   ]
  },
  {
   "cell_type": "code",
   "execution_count": 10,
   "metadata": {},
   "outputs": [],
   "source": [
    "client.disconnect()\n",
    "\n",
    "# delete all variables\n",
    "%reset -f"
   ]
  },
  {
   "cell_type": "markdown",
   "metadata": {},
   "source": [
    "---"
   ]
  },
  {
   "cell_type": "markdown",
   "metadata": {},
   "source": [
    "# Load Workflow"
   ]
  },
  {
   "cell_type": "code",
   "execution_count": 11,
   "metadata": {},
   "outputs": [],
   "source": [
    "import os, sys\n",
    "\n",
    "import numpy as np\n",
    "\n",
    "import tensorflow as tf\n",
    "from tensorflow import keras\n",
    "\n",
    "import matplotlib.pyplot as plt\n",
    "\n",
    "sys.path.append(os.path.join(\"..\", \"modeldb\"))\n",
    "from modeldbclient import ModelDBClient"
   ]
  },
  {
   "cell_type": "markdown",
   "metadata": {},
   "source": [
    "## Instantiate Client"
   ]
  },
  {
   "cell_type": "code",
   "execution_count": 12,
   "metadata": {},
   "outputs": [],
   "source": [
    "client = ModelDBClient()\n",
    "proj = client.set_project(\"MNIST Multiclassification\")\n",
    "expt = client.set_experiment(\"FC-NN\")"
   ]
  },
  {
   "cell_type": "markdown",
   "metadata": {},
   "source": [
    "## Load Experiment Run"
   ]
  },
  {
   "cell_type": "code",
   "execution_count": 13,
   "metadata": {},
   "outputs": [],
   "source": [
    "run = client.set_experiment_run(\"Test Run\")\n",
    "\n",
    "# retrieve everything we need from our ExperimentRun instance\n",
    "datasets = run.get_datasets()\n",
    "models = run.get_models()\n",
    "hyperparameters = run.get_hyperparameters()\n",
    "\n",
    "TRAIN_DATA_PATH = datasets['train data']\n",
    "TEST_DATA_PATH = datasets['test data']\n",
    "VAL_PLOT_PATH = run.get_image(\"validation plot\")\n",
    "MODEL_PATH = models['model']\n",
    "\n",
    "HIDDEN_SIZE = hyperparameters['hidden size']\n",
    "DROPOUT = hyperparameters['dropout']\n",
    "\n",
    "OPTIMIZER = hyperparameters['optimizer']\n",
    "LOSS = hyperparameters['loss']\n",
    "\n",
    "BATCH_SIZE = hyperparameters['batch size']\n",
    "NUM_EPOCHS = hyperparameters['num epochs']\n",
    "VALIDATION_SPLIT = hyperparameters['validation split']"
   ]
  },
  {
   "cell_type": "markdown",
   "metadata": {},
   "source": [
    "## Restore Accuracy Plot"
   ]
  },
  {
   "cell_type": "code",
   "execution_count": 14,
   "metadata": {},
   "outputs": [
    {
     "data": {
      "image/png": "[encoded data removed]",
      "text/plain": [
       "<Figure size 576x432 with 1 Axes>"
      ]
     },
     "metadata": {
      "needs_background": "light"
     },
     "output_type": "display_data"
    }
   ],
   "source": [
    "img = plt.imread(VAL_PLOT_PATH)\n",
    "plt.figure(figsize=(8, 6))\n",
    "plt.axis('off')\n",
    "\n",
    "img_plt = plt.imshow(img)"
   ]
  },
  {
   "cell_type": "markdown",
   "metadata": {},
   "source": [
    "## Restore Model Definition"
   ]
  },
  {
   "cell_type": "code",
   "execution_count": 15,
   "metadata": {},
   "outputs": [],
   "source": [
    "model = keras.models.Sequential()\n",
    "model.add(keras.layers.Flatten())\n",
    "model.add(keras.layers.Dense(HIDDEN_SIZE, activation=tf.nn.relu))\n",
    "model.add(keras.layers.Dropout(DROPOUT))\n",
    "model.add(keras.layers.Dense(10, activation=tf.nn.softmax))"
   ]
  },
  {
   "cell_type": "markdown",
   "metadata": {},
   "source": [
    "## Restore Training Procedure Definition"
   ]
  },
  {
   "cell_type": "code",
   "execution_count": 16,
   "metadata": {},
   "outputs": [],
   "source": [
    "model.compile(optimizer=OPTIMIZER,\n",
    "              loss=LOSS,\n",
    "              metrics=['accuracy'])"
   ]
  },
  {
   "cell_type": "markdown",
   "metadata": {},
   "source": [
    "## Restore Training Data"
   ]
  },
  {
   "cell_type": "code",
   "execution_count": 17,
   "metadata": {},
   "outputs": [],
   "source": [
    "train_data = np.load(TRAIN_DATA_PATH)\n",
    "X_train, y_train = train_data['X'], train_data['y']"
   ]
  },
  {
   "cell_type": "markdown",
   "metadata": {},
   "source": [
    "## Retrain Model on Full Training Set"
   ]
  },
  {
   "cell_type": "code",
   "execution_count": 18,
   "metadata": {},
   "outputs": [
    {
     "name": "stdout",
     "output_type": "stream",
     "text": [
      "Epoch 1/4\n",
      "60000/60000 [==============================] - 5s 85us/step - loss: 0.5724 - acc: 0.8455\n",
      "Epoch 2/4\n",
      "60000/60000 [==============================] - 4s 60us/step - loss: 0.2271 - acc: 0.9364\n",
      "Epoch 3/4\n",
      "60000/60000 [==============================] - 4s 62us/step - loss: 0.1708 - acc: 0.9525\n",
      "Epoch 4/4\n",
      "60000/60000 [==============================] - 3s 58us/step - loss: 0.1357 - acc: 0.9621\n"
     ]
    }
   ],
   "source": [
    "def log_test(epoch, logs):  # Keras will call this each epoch\n",
    "    run.log_observation(\"train loss\", float(logs['loss']))\n",
    "    run.log_observation(\"train acc\", float(logs['acc']))\n",
    "\n",
    "_ = model.fit(X_train, y_train,\n",
    "              batch_size=BATCH_SIZE, epochs=NUM_EPOCHS,\n",
    "              callbacks=[keras.callbacks.LambdaCallback(on_epoch_end=log_test)])"
   ]
  },
  {
   "cell_type": "markdown",
   "metadata": {},
   "source": [
    "## Run and Log Testing"
   ]
  },
  {
   "cell_type": "code",
   "execution_count": 19,
   "metadata": {},
   "outputs": [
    {
     "name": "stdout",
     "output_type": "stream",
     "text": [
      "10000/10000 [==============================] - 1s 89us/step\n",
      "test_loss: 0.1298 - test_acc: 0.9622\n"
     ]
    }
   ],
   "source": [
    "test_data = np.load(TEST_DATA_PATH)\n",
    "X_test, y_test = test_data['X'], test_data['y']\n",
    "\n",
    "test_loss, test_acc = model.evaluate(X_test, y_test)\n",
    "print(f\"test_loss: {test_loss:.4f} - test_acc: {test_acc:.4f}\")\n",
    "\n",
    "run.log_metric(\"test loss\", test_loss)\n",
    "run.log_metric(\"test acc\", test_acc)"
   ]
  },
  {
   "cell_type": "markdown",
   "metadata": {},
   "source": [
    "## Clean Up"
   ]
  },
  {
   "cell_type": "code",
   "execution_count": 20,
   "metadata": {},
   "outputs": [],
   "source": [
    "client.disconnect()"
   ]
  }
 ],
 "metadata": {
  "kernelspec": {
   "display_name": "Python 3",
   "language": "python",
   "name": "python3"
  },
  "language_info": {
   "codemirror_mode": {
    "name": "ipython",
    "version": 3
   },
   "file_extension": ".py",
   "mimetype": "text/x-python",
   "name": "python",
   "nbconvert_exporter": "python",
   "pygments_lexer": "ipython3",
   "version": "3.6.7"
  }
 },
 "nbformat": 4,
 "nbformat_minor": 2
}
