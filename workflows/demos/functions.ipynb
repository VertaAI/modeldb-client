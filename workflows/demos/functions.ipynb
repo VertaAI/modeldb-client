{
 "cells": [
  {
   "cell_type": "markdown",
   "metadata": {
    "colab_type": "text",
    "id": "view-in-github"
   },
   "source": [
    "<a href=\"https://colab.research.google.com/github/VertaAI/modeldb-client/blob/development/workflows/demos/functions.ipynb\" target=\"_parent\"><img src=\"https://colab.research.google.com/assets/colab-badge.svg\" alt=\"Open In Colab\"/></a>"
   ]
  },
  {
   "cell_type": "markdown",
   "metadata": {
    "colab_type": "text",
    "id": "XnxsMdgdtucA"
   },
   "source": [
    "# API Runthrough"
   ]
  },
  {
   "cell_type": "code",
   "execution_count": null,
   "metadata": {
    "collapsed": true
   },
   "outputs": [],
   "source": [
    "#Run this cell if you are running this python notebook on Google Colab and restart your notebook when prompted\n",
    "!pip install verta"
   ]
  },
  {
   "cell_type": "code",
   "execution_count": 0,
   "metadata": {
    "colab": {},
    "colab_type": "code",
    "collapsed": true,
    "id": "bRL4zv9ptucI"
   },
   "outputs": [],
   "source": [
    "import numpy as np\n",
    "\n",
    "from verta import ModelDBClient\n",
    "\n",
    "\n",
    "gen_name = lambda: ''.join(np.random.randint(10, size=10).astype(str).tolist())\n",
    "\n",
    "gen_desc = (lambda\n",
    "            LOREM=(\"lorem ipsum dolor sit amet consectetur adipiscing elit sed do \" +\n",
    "                   \"eiusmod tempor incididunt ut labore et dolore magna aliqua\").split():\n",
    "            ' '.join(LOREM[:np.random.choice(len(LOREM)-1)+1]))\n",
    "gen_tags = (lambda\n",
    "            TAGS=[\"development\", \"deployment\", \"exploratory\",\n",
    "                  \"obsolete\", \"debug\", \"enhancement\", \"demo\"]:\n",
    "            np.random.choice(TAGS,\n",
    "                             size=np.random.choice(len(TAGS)-1)+1,\n",
    "                             replace=False).tolist())\n",
    "gen_attrs = (lambda\n",
    "             ATTRS={'is_test': True, 'team': \"Ads\", \"train_time\": 4}:\n",
    "             {key: ATTRS[key]\n",
    "              for key\n",
    "              in np.random.choice(list(ATTRS.keys()),\n",
    "                                  size=np.random.choice(len(ATTRS)-1)+1,\n",
    "                                  replace=False)})"
   ]
  },
  {
   "cell_type": "code",
   "execution_count": 0,
   "metadata": {
    "colab": {},
    "colab_type": "code",
    "collapsed": true,
    "id": "h4dbZAwqtucT"
   },
   "outputs": [],
   "source": [
    "HOST =\n",
    "PORT ="
   ]
  },
  {
   "cell_type": "markdown",
   "metadata": {
    "colab_type": "text",
    "id": "8lPM5HK-tuca"
   },
   "source": [
    "---"
   ]
  },
  {
   "cell_type": "markdown",
   "metadata": {
    "colab_type": "text",
    "id": "mk3o7nwXtucd"
   },
   "source": [
    "## Write"
   ]
  },
  {
   "cell_type": "code",
   "execution_count": 0,
   "metadata": {
    "colab": {},
    "colab_type": "code",
    "collapsed": true,
    "id": "AWN1Ip_3tucj"
   },
   "outputs": [],
   "source": [
    "client = ModelDBClient(HOST, PORT)\n",
    "\n",
    "proj = client.set_project(gen_name(), gen_desc(), gen_tags(), gen_attrs())\n",
    "expt = client.set_experiment(gen_name(), gen_desc(), gen_tags(), gen_attrs())\n",
    "\n",
    "run = client.set_experiment_run(gen_name(), gen_desc(), gen_tags(), gen_attrs())\n",
    "run.log_dataset(\"train_data\", \"path/to/data\")\n",
    "run.log_hyperparameter(\"size\", \"small\")\n",
    "run.log_image(\"generated_sample\", \"path/to/image\")\n",
    "run.log_metric(\"accuracy\", .4)\n",
    "run.log_model(\"model\", \"path/to/model\")\n",
    "run.log_observation(\"batch_loss\", \"3.4\")\n",
    "\n",
    "proj = client.set_project(proj.name)\n",
    "expt = client.set_experiment(expt.name)\n",
    "run = client.set_experiment_run(run.name)\n",
    "\n",
    "run.get_datasets()\n",
    "run.get_hyperparameters()\n",
    "run.get_image(\"generated_sample\")\n",
    "run.get_metrics()\n",
    "run.get_models()\n",
    "# run.get_observations(\"batch_loss\")\n",
    "print(\"Success!\")"
   ]
  }
 ],
 "metadata": {
  "colab": {
   "name": "functions.ipynb",
   "provenance": [],
   "version": "0.3.2"
  },
  "kernelspec": {
   "display_name": "Python 36",
   "language": "python",
   "name": "py36"
  },
  "language_info": {
   "codemirror_mode": {
    "name": "ipython",
    "version": 3
   },
   "file_extension": ".py",
   "mimetype": "text/x-python",
   "name": "python",
   "nbconvert_exporter": "python",
   "pygments_lexer": "ipython3",
   "version": "3.6.1"
  }
 },
 "nbformat": 4,
 "nbformat_minor": 1
}
