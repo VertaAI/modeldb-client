{
  "nbformat": 4,
  "nbformat_minor": 0,
  "metadata": {
    "colab": {
      "name": "functions.ipynb",
      "version": "0.3.2",
      "provenance": []
    },
    "kernelspec": {
      "display_name": "Python 3",
      "language": "python",
      "name": "python3"
    }
  },
  "cells": [
    {
      "metadata": {
        "id": "XnxsMdgdtucA",
        "colab_type": "text"
      },
      "cell_type": "markdown",
      "source": [
        "# API Runthrough"
      ]
    },
    {
      "metadata": {
        "id": "FVDPJBLtt024",
        "colab_type": "code",
        "colab": {
          "base_uri": "https://localhost:8080/",
          "height": 616
        },
        "outputId": "c2bce3c7-029e-403b-ac68-640780a295bc"
      },
      "cell_type": "code",
      "source": [
        "!pip install verta"
      ],
      "execution_count": 2,
      "outputs": [
        {
          "output_type": "stream",
          "text": [
            "Collecting verta\n",
            "\u001b[?25l  Downloading https://files.pythonhosted.org/packages/97/90/1849e2a27775167b679fc40fcad5e4750487a9cf945068cee36b1fc0aed6/verta-0.8.0-py3-none-any.whl (42kB)\n",
            "\u001b[K    100% |████████████████████████████████| 51kB 3.4MB/s \n",
            "\u001b[?25hCollecting requests~=2.21 (from verta)\n",
            "\u001b[?25l  Downloading https://files.pythonhosted.org/packages/7d/e3/20f3d364d6c8e5d2353c72a67778eb189176f08e873c9900e10c0287b84b/requests-2.21.0-py2.py3-none-any.whl (57kB)\n",
            "\u001b[K    100% |████████████████████████████████| 61kB 7.8MB/s \n",
            "\u001b[?25hCollecting grpcio~=1.17 (from verta)\n",
            "\u001b[?25l  Downloading https://files.pythonhosted.org/packages/f4/dc/5503d89e530988eb7a1aed337dcb456ef8150f7c06132233bd9e41ec0215/grpcio-1.19.0-cp36-cp36m-manylinux1_x86_64.whl (10.8MB)\n",
            "\u001b[K    100% |████████████████████████████████| 10.8MB 3.0MB/s \n",
            "\u001b[?25hRequirement already satisfied: googleapis-common-protos~=1.5 in /usr/local/lib/python3.6/dist-packages (from verta) (1.5.8)\n",
            "Requirement already satisfied: protobuf~=3.6 in /usr/local/lib/python3.6/dist-packages (from verta) (3.7.0)\n",
            "Requirement already satisfied: chardet<3.1.0,>=3.0.2 in /usr/local/lib/python3.6/dist-packages (from requests~=2.21->verta) (3.0.4)\n",
            "Requirement already satisfied: urllib3<1.25,>=1.21.1 in /usr/local/lib/python3.6/dist-packages (from requests~=2.21->verta) (1.22)\n",
            "Requirement already satisfied: certifi>=2017.4.17 in /usr/local/lib/python3.6/dist-packages (from requests~=2.21->verta) (2019.3.9)\n",
            "Requirement already satisfied: idna<2.9,>=2.5 in /usr/local/lib/python3.6/dist-packages (from requests~=2.21->verta) (2.6)\n",
            "Requirement already satisfied: six>=1.5.2 in /usr/local/lib/python3.6/dist-packages (from grpcio~=1.17->verta) (1.11.0)\n",
            "Requirement already satisfied: setuptools in /usr/local/lib/python3.6/dist-packages (from protobuf~=3.6->verta) (40.8.0)\n",
            "\u001b[31mspacy 2.0.18 has requirement numpy>=1.15.0, but you'll have numpy 1.14.6 which is incompatible.\u001b[0m\n",
            "\u001b[31mgoogle-colab 1.0.0 has requirement requests~=2.18.0, but you'll have requests 2.21.0 which is incompatible.\u001b[0m\n",
            "\u001b[31mfastai 1.0.49 has requirement numpy>=1.15, but you'll have numpy 1.14.6 which is incompatible.\u001b[0m\n",
            "\u001b[31mdatascience 0.10.6 has requirement folium==0.2.1, but you'll have folium 0.8.3 which is incompatible.\u001b[0m\n",
            "Installing collected packages: requests, grpcio, verta\n",
            "  Found existing installation: requests 2.18.4\n",
            "    Uninstalling requests-2.18.4:\n",
            "      Successfully uninstalled requests-2.18.4\n",
            "  Found existing installation: grpcio 1.15.0\n",
            "    Uninstalling grpcio-1.15.0:\n",
            "      Successfully uninstalled grpcio-1.15.0\n",
            "Successfully installed grpcio-1.19.0 requests-2.21.0 verta-0.8.0\n"
          ],
          "name": "stdout"
        },
        {
          "output_type": "display_data",
          "data": {
            "application/vnd.colab-display-data+json": {
              "pip_warning": {
                "packages": [
                  "grpc",
                  "requests"
                ]
              }
            }
          },
          "metadata": {
            "tags": []
          }
        }
      ]
    },
    {
      "metadata": {
        "id": "bRL4zv9ptucI",
        "colab_type": "code",
        "colab": {}
      },
      "cell_type": "code",
      "source": [
        "import numpy as np\n",
        "\n",
        "from verta import ModelDBClient\n",
        "\n",
        "\n",
        "gen_name = lambda: ''.join(np.random.randint(10, size=10).astype(str).tolist())\n",
        "\n",
        "gen_desc = (lambda\n",
        "            LOREM=(\"lorem ipsum dolor sit amet consectetur adipiscing elit sed do \" +\n",
        "                   \"eiusmod tempor incididunt ut labore et dolore magna aliqua\").split():\n",
        "            ' '.join(LOREM[:np.random.choice(len(LOREM)-1)+1]))\n",
        "gen_tags = (lambda\n",
        "            TAGS=[\"development\", \"deployment\", \"exploratory\",\n",
        "                  \"obsolete\", \"debug\", \"enhancement\", \"demo\"]:\n",
        "            np.random.choice(TAGS,\n",
        "                             size=np.random.choice(len(TAGS)-1)+1,\n",
        "                             replace=False).tolist())\n",
        "gen_attrs = (lambda\n",
        "             ATTRS={'is_test': True, 'team': \"Ads\", \"train_time\": 4}:\n",
        "             {key: ATTRS[key]\n",
        "              for key\n",
        "              in np.random.choice(list(ATTRS.keys()),\n",
        "                                  size=np.random.choice(len(ATTRS)-1)+1,\n",
        "                                  replace=False)})"
      ],
      "execution_count": 0,
      "outputs": []
    },
    {
      "metadata": {
        "id": "h4dbZAwqtucT",
        "colab_type": "code",
        "colab": {}
      },
      "cell_type": "code",
      "source": [
        "HOST = \"eks-alb-http-betamax-prod-513501981.us-east-1.elb.amazonaws.com\"\n",
        "PORT = \"6244\""
      ],
      "execution_count": 0,
      "outputs": []
    },
    {
      "metadata": {
        "id": "8lPM5HK-tuca",
        "colab_type": "text"
      },
      "cell_type": "markdown",
      "source": [
        "---"
      ]
    },
    {
      "metadata": {
        "id": "mk3o7nwXtucd",
        "colab_type": "text"
      },
      "cell_type": "markdown",
      "source": [
        "## Write"
      ]
    },
    {
      "metadata": {
        "id": "AWN1Ip_3tucj",
        "colab_type": "code",
        "colab": {
          "base_uri": "https://localhost:8080/",
          "height": 102
        },
        "outputId": "711610c6-da3a-4a84-fa05-75b13cca7fb7"
      },
      "cell_type": "code",
      "source": [
        "client = ModelDBClient(HOST, PORT)\n",
        "\n",
        "proj = client.set_project(gen_name(), gen_desc(), gen_tags(), gen_attrs())\n",
        "expt = client.set_experiment(gen_name(), gen_desc(), gen_tags(), gen_attrs())\n",
        "\n",
        "run = client.set_experiment_run(gen_name(), gen_desc(), gen_tags(), gen_attrs())\n",
        "run.log_dataset(\"train_data\", \"path/to/data\")\n",
        "run.log_hyperparameter(\"size\", \"small\")\n",
        "run.log_image(\"generated_sample\", \"path/to/image\")\n",
        "run.log_metric(\"accuracy\", .4)\n",
        "run.log_model(\"model\", \"path/to/model\")\n",
        "run.log_observation(\"batch_loss\", \"3.4\")\n",
        "\n",
        "proj = client.set_project(proj.name)\n",
        "expt = client.set_experiment(expt.name)\n",
        "run = client.set_experiment_run(run.name)\n",
        "\n",
        "run.get_datasets()\n",
        "run.get_hyperparameters()\n",
        "run.get_image(\"generated_sample\")\n",
        "run.get_metrics()\n",
        "run.get_models()\n",
        "# run.get_observations(\"batch_loss\")\n",
        "print(\"Success!\")"
      ],
      "execution_count": 4,
      "outputs": [
        {
          "output_type": "stream",
          "text": [
            "created new Project: 3323343242\n",
            "created new Experiment: 5142538101\n",
            "set existing Project: 3323343242\n",
            "set existing Experiment: 5142538101\n",
            "Success!\n"
          ],
          "name": "stdout"
        }
      ]
    }
  ]
}