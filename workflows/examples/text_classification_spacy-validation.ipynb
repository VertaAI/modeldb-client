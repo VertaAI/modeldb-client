{
 "cells": [
  {
   "cell_type": "markdown",
   "metadata": {},
   "source": [
    "# Spacy Tutorial continued"
   ]
  },
  {
   "cell_type": "markdown",
   "metadata": {},
   "source": [
    "This walkthrough is based on [this spaCy tutorial](https://github.com/explosion/spaCy/blob/master/examples/training/train_textcat.py).\n",
    "\n",
    "Train a convolutional neural network text classifier on the\n",
    "IMDB dataset, using the `TextCategorizer` component. The dataset will be loaded\n",
    "automatically via Thinc's built-in dataset loader. The model is added to\n",
    "`spacy.pipeline`, and predictions are available via `doc.cats`."
   ]
  },
  {
   "cell_type": "markdown",
   "metadata": {},
   "source": [
    "## Set Up Environment"
   ]
  },
  {
   "cell_type": "markdown",
   "metadata": {},
   "source": [
    "This notebook has been tested with the following package versions:  \n",
    "(you may need to change `pip` to `pip3`, depending on your own Python environment)"
   ]
  },
  {
   "cell_type": "code",
   "execution_count": null,
   "metadata": {},
   "outputs": [],
   "source": [
    "# Python >3.5\n",
    "!pip install verta\n",
    "!pip install spacy==2.1.6\n",
    "!python -m spacy download en"
   ]
  },
  {
   "cell_type": "markdown",
   "metadata": {},
   "source": [
    "## Set Up Verta"
   ]
  },
  {
   "cell_type": "code",
   "execution_count": 3,
   "metadata": {},
   "outputs": [],
   "source": [
    "HOST = 'sandbox.app.verta.ai'\n",
    "\n",
    "PROJECT_NAME = 'Film Review Classification'\n",
    "EXPERIMENT_NAME = 'spaCy CNN'"
   ]
  },
  {
   "cell_type": "code",
   "execution_count": 4,
   "metadata": {},
   "outputs": [],
   "source": [
    "# import os\n",
    "# os.environ['VERTA_EMAIL'] = \n",
    "# os.environ['VERTA_DEV_KEY'] = "
   ]
  },
  {
   "cell_type": "code",
   "execution_count": 5,
   "metadata": {},
   "outputs": [
    {
     "name": "stdout",
     "output_type": "stream",
     "text": [
      "set email from environment\n",
      "set developer key from environment\n",
      "connection successfully established\n",
      "set existing Project: Film Review Classification\n",
      "set existing Experiment: spaCy CNN\n",
      "created new ExperimentRun: Run 1525815658107422336361\n"
     ]
    }
   ],
   "source": [
    "from verta import Client\n",
    "from verta.utils import ModelAPI\n",
    "\n",
    "client = Client(HOST, use_git=False)\n",
    "\n",
    "proj = client.set_project(PROJECT_NAME)\n",
    "expt = client.set_experiment(EXPERIMENT_NAME)\n",
    "run = client.set_experiment_run()"
   ]
  },
  {
   "cell_type": "markdown",
   "metadata": {},
   "source": [
    "---"
   ]
  },
  {
   "cell_type": "markdown",
   "metadata": {},
   "source": [
    "## Imports"
   ]
  },
  {
   "cell_type": "code",
   "execution_count": 6,
   "metadata": {},
   "outputs": [],
   "source": [
    "import random\n",
    "\n",
    "import six\n",
    "\n",
    "import numpy as np\n",
    "import thinc.extra.datasets\n",
    "import spacy\n",
    "from spacy.util import minibatch, compounding"
   ]
  },
  {
   "cell_type": "markdown",
   "metadata": {},
   "source": [
    "# Reconstitute a run"
   ]
  },
  {
   "cell_type": "code",
   "execution_count": 11,
   "metadata": {},
   "outputs": [],
   "source": [
    "run = expt.expt_runs.find(\"id == 'some-id'\")[0]"
   ]
  },
  {
   "cell_type": "code",
   "execution_count": 12,
   "metadata": {
    "collapsed": true
   },
   "outputs": [
    {
     "name": "stdout",
     "output_type": "stream",
     "text": [
      "Loading from verta..\n"
     ]
    },
    {
     "ename": "NameError",
     "evalue": "name 'test_text' is not defined",
     "output_type": "error",
     "traceback": [
      "\u001b[0;31m---------------------------------------------------------------------------\u001b[0m",
      "\u001b[0;31mNameError\u001b[0m                                 Traceback (most recent call last)",
      "\u001b[0;32m<ipython-input-12-896893e4fa58>\u001b[0m in \u001b[0;36m<module>\u001b[0;34m\u001b[0m\n\u001b[1;32m      2\u001b[0m \u001b[0mprint\u001b[0m\u001b[0;34m(\u001b[0m\u001b[0;34m\"Loading from verta..\"\u001b[0m\u001b[0;34m)\u001b[0m\u001b[0;34m\u001b[0m\u001b[0;34m\u001b[0m\u001b[0m\n\u001b[1;32m      3\u001b[0m \u001b[0mnlp2\u001b[0m \u001b[0;34m=\u001b[0m \u001b[0mrun\u001b[0m\u001b[0;34m.\u001b[0m\u001b[0mget_model\u001b[0m\u001b[0;34m(\u001b[0m\u001b[0;34m'final_model'\u001b[0m\u001b[0;34m)\u001b[0m\u001b[0;34m\u001b[0m\u001b[0;34m\u001b[0m\u001b[0m\n\u001b[0;32m----> 4\u001b[0;31m \u001b[0mdoc2\u001b[0m \u001b[0;34m=\u001b[0m \u001b[0mnlp2\u001b[0m\u001b[0;34m(\u001b[0m\u001b[0mtest_text\u001b[0m\u001b[0;34m)\u001b[0m\u001b[0;34m\u001b[0m\u001b[0;34m\u001b[0m\u001b[0m\n\u001b[0m\u001b[1;32m      5\u001b[0m \u001b[0mprint\u001b[0m\u001b[0;34m(\u001b[0m\u001b[0mtest_text\u001b[0m\u001b[0;34m)\u001b[0m\u001b[0;34m\u001b[0m\u001b[0;34m\u001b[0m\u001b[0m\n\u001b[1;32m      6\u001b[0m \u001b[0mprint\u001b[0m\u001b[0;34m(\u001b[0m\u001b[0mdoc2\u001b[0m\u001b[0;34m.\u001b[0m\u001b[0mcats\u001b[0m\u001b[0;34m)\u001b[0m\u001b[0;34m\u001b[0m\u001b[0;34m\u001b[0m\u001b[0m\n",
      "\u001b[0;31mNameError\u001b[0m: name 'test_text' is not defined"
     ]
    }
   ],
   "source": [
    "# test the logged model\n",
    "print(\"Loading from verta..\")\n",
    "nlp2 = run.get_model('final_model')"
   ]
  },
  {
   "cell_type": "code",
   "execution_count": 13,
   "metadata": {},
   "outputs": [
    {
     "name": "stdout",
     "output_type": "stream",
     "text": [
      "I would definitely watch this again!\n",
      "{'POSITIVE': 0.995653510093689, 'NEGATIVE': 0.004346499219536781}\n"
     ]
    }
   ],
   "source": [
    "test_text = \"I would definitely watch this again!\"\n",
    "doc2 = nlp2(test_text)\n",
    "print(test_text)\n",
    "print(doc2.cats)"
   ]
  },
  {
   "cell_type": "code",
   "execution_count": 14,
   "metadata": {},
   "outputs": [],
   "source": [
    "run.log_metric(\"val_metric_direct\", 0.5)"
   ]
  },
  {
   "cell_type": "markdown",
   "metadata": {},
   "source": [
    "---"
   ]
  },
  {
   "cell_type": "markdown",
   "metadata": {},
   "source": [
    "# Test on a deployed model"
   ]
  },
  {
   "cell_type": "markdown",
   "metadata": {},
   "source": [
    "Click the link above to view your Experiment Run in the Verta Web App, and deploy it.  \n",
    "Once it's ready, you can make predictions against the deployed model."
   ]
  },
  {
   "cell_type": "code",
   "execution_count": 15,
   "metadata": {},
   "outputs": [],
   "source": [
    "from verta._demo_utils import DeployedModel\n",
    "\n",
    "deployed_model = DeployedModel(HOST, run.id)"
   ]
  },
  {
   "cell_type": "code",
   "execution_count": 25,
   "metadata": {},
   "outputs": [
    {
     "data": {
      "text/plain": [
       "['POSITIVE']"
      ]
     },
     "execution_count": 25,
     "metadata": {},
     "output_type": "execute_result"
    }
   ],
   "source": [
    "deployed_model.predict([\"I would definitely watch this again!\"])"
   ]
  },
  {
   "cell_type": "code",
   "execution_count": 17,
   "metadata": {},
   "outputs": [],
   "source": [
    " train_data, _ = thinc.extra.datasets.imdb()"
   ]
  },
  {
   "cell_type": "code",
   "execution_count": 21,
   "metadata": {},
   "outputs": [
    {
     "name": "stdout",
     "output_type": "stream",
     "text": [
      "(\"The pakage implies that Warren Beatty and Goldie Hawn are pulling off a huge bank robbery, but that's not what I got out of it! I didn't get anything! In the first half there's a new character (without introduction) in every other scene. The first half-hour is completely incomprehensible, the rest is just one long, annoying, underlit chase scene. There's always an irritating sound in the background whether it's a loud watch ticking, a blaring siren, a train whistling, or even the horrible score by Quincy Jones. There are a lot of parts that are laughably bad, too. Like, the bad guys chasing Beatty on thin ice with a CAR! Or, the police arriving at the scene roughly fifteen times. I really hated this movie!\", 0)\n",
      "prediction: ['NEGATIVE']\n",
      "('The most positive thing I can say for this dull witted local \"comedy\" production is that it\\'s inoffensive. In fact it\\'s so astonishingly bland that one wonders how many dozens of re-writes by committee it went through to have such a complete removal of personality. It\\'s not witty, it\\'s not entertaining, it\\'s not insightful, and it\\'s not charming. It\\'s just a staid, laughless, progression of four losers who must change their ways - and their attitudes towards women - to be allowed to attend their best friend\\'s wedding.\\n\\n\\n\\nWith acting that would be sub par for the local amateur dramatics society, a plot line so tired it\\'d make a forty third season of \\'Allo \\'Allo look fresh, and jokes about as humorous as watching decaying vegetables, Sione\\'s Wedding nonetheless scored ten (yes 10) nominations in the NZ film awards recently.\\n\\n\\n\\nFortunately, somebody saw sense and it didn\\'t win any.', 0)\n",
      "prediction: ['POSITIVE']\n",
      "(\"As a movie critic for several Dutch websites, I have to see lot's of movies, and not all very good ones. Some movies are so bad, you won't be surprised that they are released straight on video. With taboo, Iám surprised that it is released on video at all. This is really low budget bad quality bad written rubbish. \\n\\n\\n\\nA group of youngsters plays a game of taboo. They write down their most sickening wish or act, and later on people are murdered for their taboo's. The question is, should we believe what we see?\\n\\n\\n\\nThe movie has a potential interesting plot-twist, and I won't give it away here. But what could have been interesting stays stupid, bad acted and without any reason.\\n\\n\\n\\nSome of the actors have played in bigger titles before, so why on earth did they sign up for this? If you see this anywhere, try to dodge it. There is no logic, no human sense of quality in this movie.\", 0)\n",
      "prediction: ['POSITIVE']\n",
      "(\"So they hyped the violence and it's been branded as sick. Well, the violence is the best bit I'm afraid, but unfortunately the characters are not developed enough to allow us to understand why they go on their (entirely predictable) rampage. This film has a truly dreadful script. We never get a chance to get to know Robert and his actions at the end are just plain pathetic. The acting isn't much better, either, the worst of them being the TV chef and the school teacher. The direction is clumsy, the pace enough to send you to sleep. And what on earth is the school film project all about? A comment on the film itself perhaps? The use of newsreel during the climactic murder is laughable. These guys obviously think they're intellectuals but are hopelessly out of their depth. How on earth they got the great Yorgos Arvanitis to light it I'll never know. And how they got the money to make it in the first place is an even greater mystery. Absolutely awful beyond comprehension.\", 0)\n",
      "prediction: ['NEGATIVE']\n",
      "('I want to say the acting is bad, but I think it was the directing that made it so. I never thought much of Highlander (same director) but that one could be blamed on the 80s.\\n\\n\\n\\nThis one however, has no excuses. People get shot while exiting trenches with a man in front of him!? Those kind of mistakes, along with an unclear time line, weird battle tactics, sub-par cutting and poor visual effects, makes this one a sub-par film over all.\\n\\n\\n\\nThen like so many other have commented, all this American bullshit. The German general being practically scared of his captured American private. Be prepared to swallow a lot of it, although in small doses.\\n\\n\\n\\nTo sum it up, a not horrible but still definitely sub-par war movie in all aspects.', 0)\n",
      "prediction: ['NEGATIVE']\n",
      "('Unfortunately for myself - I stumbled onto this show late in it\\'s lifetime. I only caught a few episodes (about three) before it was cancelled by ABC. I loved the characters, and storyline - but most of all the GREAT actors! I was a fan of Sex and the City, so I saw two characters I recognized (Bridget Moynahan was & The Character \"Todd\" was \"Smith Jared\"), as well as Jay Hernandez (From Carlito\\'s Way: Rise To Power) and Erika Christensen (Swimfan). I enjoy watching young actors get their due, and felt like this show would propel their career further along. I hope this at least gets put back out on DVD, and maybe WB will pick it up for a second season sometime? In the meantime, I\\'m viewing it on ABC\\'s website from the beginning.', 1)\n",
      "prediction: ['POSITIVE']\n",
      "(\"I somehow missed this movie when it came out and have discovered it as late as last week thanks to a friend's recommendation. I can honestly say that I cannot remember another intimate dramatic film, which does so many things so well. The writing is crisp, realistic, nuanced, and even restrained. The cinematography and editing are understated but inspired, enabling the visual storytelling to dominate through marvelous close-ups and framing of images, capturing loneliness and alienation in most memorable ways. The acting is also wonderful, with all of the characters becoming painfully real and vulnerable in the most compelling ways that a film can offer. They reveal their innermost weaknesses with unprotected, raw vulnerability. A real triumph for Roger Michell and Hanif Kureishi, and the rest of the team. A must see for serious film lovers.\", 1)\n",
      "prediction: ['POSITIVE']\n",
      "(\"I rate this 10 out of 10. Why?\\n\\n\\n\\n* It offers insight into something I barely understand - the surfers surf because it's all they want to do; Nothing else seems to matter as much to them as surfing; Nor is it a temporary thing - it's a lifetime for these guys * Buried in the movie is a great history of surfing; I have never surfed, but I love surfing movies, and have seen many. None taught me what this movie did * The movie was very well edited. It flowed well. The interviews were outstanding * It's interesting from start to finish\\n\\n\\n\\nIn summary, it's about as good as a documentary as I have seen, so I have to rate in terms of that. So 10/10\", 1)\n",
      "prediction: ['NEGATIVE']\n",
      "(\"Story of Ireland in the 70/s. This film is a beautiful reconstruction of small time Ireland in the 1970/s. All the gang are there see below. Master Boyle , The Boys , The Cannon , SP O'Donnell , Senator Doogan's Daugter , Rose , Agnes , Maura and Una. See this film.Feel Ireland as it was.\\n\\n\\n\\n\", 1)\n",
      "prediction: ['POSITIVE']\n",
      "(\"Sundown - featuring the weakest, dorkiest vampires ever seen, accompanied by one of the most unfitting, pretentious scores ever written - and with Shane the vampire, who's every move and spoken word was so ridiculous that I burst out laughing half the times and rolled my eyes the rest.\\n\\n\\n\\nThe vampires don't seem to have any special powers at all - except for strength (sometimes), being able to switch off a lamp with their mind (one time) and... that's it, really. Ever imagine count Dracula worriedly recoiling from a fight 'cause he ran out of bullets? Neither did I. Practically any other movie-Dracula would eat this one for breakfast, skin his followers and use their bones as toothpicks.\\n\\n\\n\\nThe main plot of the movie is that a human family of four gets caught up in a vampire gang fight - Dracula's vs. some old geezer's. It could have been some good old B-flick fun, but the overly dramatic music was clearly written by someone who took this movie a bit too seriously, and ends up ruining the remaining part of the movie not already ruined by clay bats, mediocre acting and the laughable screenplay.\\n\\n\\n\\nIn the end it's just too silly to be funny. Sure, it has some amusing moments, but they're few, and far apart.\", 0)\n"
     ]
    },
    {
     "name": "stdout",
     "output_type": "stream",
     "text": [
      "prediction: ['POSITIVE']\n",
      "(\"This was a very entertaining movie and I really enjoyed it, I don't normally rent movies like these (ie. indie flicks) however, I was attracted to the film because it had an incredible cast which included Jamie Kennedy, whom I have loved since the Scream trilogy. The movie director took a risk (and it is a risky risk) in telling the lives of many (and I mean MANY) different people and having the intertwine at various intervals. Taking that risk was a good idea because it's end result is an exceedingly good film. \\n\\n\\n\\nThe film has a few MAIN characters; Dwight (Jamie Kennedy) - a disgruntled fortune cookie writer whose relationship with his girlfriend is on the rocks because of an argument. Wallace Gregory (John Carroll Lynch) - an airplane loader/technician who has a love for all living things (except, perhaps meter maids) and who despite his good heart has an increasing amount of bad luck. Cyr (Brian Cox) - the owner of a Chinese restaurant/donut shop who is a germaphobe and because of is his fear of germs places his assistant/cook Sung -(Alexis Cruz) under pressure to keep up with his phobia. Ernie - (Christopher Bauer) is married to Olive - (Christina Kirk) who he is convinced is trying to; stop him have fun, look ridiculous, go insane, and not live a normal life. They begin to have petty and almost crazy arguments and Olive seriously begins to have doubts about Ernie. Gordon - (Grant Heslov) is a man whose life isn't going very well, as bad things begin to add up in his life he decides to take it in hand. Mitchel - (Jon Huertas) is convinced that Gwen - (Alexandra Westcourt) is the girl of his dreams and that they are destined for each other, though she is more skeptical. He attempts to woo her every chance he gets and he certainly makes attempts! Johnston - (Michael Hitchcock) has just been fired from his job and has doubts about his role as provider, he takes another job that he just isn't suited for. His wife Annelle - (Arabella Field) is comforting through out his job loss experience until she learns that Johnston wasn't quite the loving husband she thought he was.\\n\\n\\n\\nAll in all I definitely suggest this movie!\\n\\n\\n\\n-Erica\", 1)\n",
      "prediction: ['POSITIVE']\n"
     ]
    }
   ],
   "source": [
    "import time\n",
    "ctr = 0\n",
    "live_metric = 0\n",
    "for row in train_data:\n",
    "    print(row[:100])\n",
    "    prediction = deployed_model.predict([row[0]])\n",
    "    print(\"prediction:\", prediction)\n",
    "    time.sleep(0.5)\n",
    "    ctr += 1\n",
    "    if ctr > 10:\n",
    "        break\n",
    "    if ((row[1] == 0) and (prediction == \"NEGATIVE\")) or ((row[1] == 1) and (prediction == \"POSITIVE\")):\n",
    "        live_metric += 1\n",
    "\n",
    "run.log_metric(\"val_metric_deployed\", live_metric * 1.0 / ctr)\n",
    "        "
   ]
  },
  {
   "cell_type": "markdown",
   "metadata": {},
   "source": [
    "---"
   ]
  }
 ],
 "metadata": {
  "kernelspec": {
   "display_name": "Python 3",
   "language": "python",
   "name": "python3"
  },
  "language_info": {
   "codemirror_mode": {
    "name": "ipython",
    "version": 3
   },
   "file_extension": ".py",
   "mimetype": "text/x-python",
   "name": "python",
   "nbconvert_exporter": "python",
   "pygments_lexer": "ipython3",
   "version": "3.6.8"
  }
 },
 "nbformat": 4,
 "nbformat_minor": 2
}
